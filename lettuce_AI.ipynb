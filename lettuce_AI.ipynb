{
  "nbformat": 4,
  "nbformat_minor": 0,
  "metadata": {
    "colab": {
      "provenance": [],
      "collapsed_sections": [
        "kqroOX_nLmUm",
        "IZR4i24aMbOd",
        "xVdMRstVMkSq",
        "oS74Yj3JRoIG",
        "H85alC5kSHqV"
      ],
      "mount_file_id": "1Uk_HRjQJ35qEot7JSWHlujE6dvNtRNF9",
      "authorship_tag": "ABX9TyNPKQ9m9EjkV23G49g4fQFE",
      "include_colab_link": true
    },
    "kernelspec": {
      "name": "python3",
      "display_name": "Python 3"
    },
    "language_info": {
      "name": "python"
    }
  },
  "cells": [
    {
      "cell_type": "markdown",
      "metadata": {
        "id": "view-in-github",
        "colab_type": "text"
      },
      "source": [
        "<a href=\"https://colab.research.google.com/github/jangjung-coding/lettuce_predict_ai/blob/main/lettuce_AI.ipynb\" target=\"_parent\"><img src=\"https://colab.research.google.com/assets/colab-badge.svg\" alt=\"Open In Colab\"/></a>"
      ]
    },
    {
      "cell_type": "markdown",
      "source": [
        "# Initial Setting"
      ],
      "metadata": {
        "id": "eS_h_JxISDOP"
      }
    },
    {
      "cell_type": "code",
      "source": [
        "from google.colab import drive\n",
        "drive.mount('/content/drive')"
      ],
      "metadata": {
        "colab": {
          "base_uri": "https://localhost:8080/"
        },
        "id": "L0uewiMC1ntR",
        "outputId": "c31c5e04-bc24-44cb-96cd-ff158944bc7a"
      },
      "execution_count": 1,
      "outputs": [
        {
          "output_type": "stream",
          "name": "stdout",
          "text": [
            "Drive already mounted at /content/drive; to attempt to forcibly remount, call drive.mount(\"/content/drive\", force_remount=True).\n"
          ]
        }
      ]
    },
    {
      "cell_type": "code",
      "source": [
        "import random\n",
        "import pandas as pd\n",
        "import numpy as np\n",
        "import matplotlib.pyplot as plt\n",
        "import seaborn as sns\n",
        "import pickle\n",
        "import os\n",
        "import glob\n",
        "import time\n",
        "\n",
        "import torch\n",
        "import torch.nn as nn\n",
        "import torch.optim as optim\n",
        "import torch.nn.functional as F\n",
        "from torch.utils.data import Dataset, DataLoader\n",
        "\n",
        "from tqdm.auto import tqdm\n",
        "\n",
        "import warnings\n",
        "warnings.filterwarnings(action='ignore')\n",
        "\n",
        "from sklearn.metrics import mean_squared_error\n",
        "from sklearn.preprocessing import MinMaxScaler, StandardScaler\n",
        "from sklearn.model_selection import cross_validate,train_test_split, KFold, TimeSeriesSplit\n",
        "from tensorflow.keras.models import Sequential\n",
        "from tensorflow.keras.layers import LSTM, Dense, Dropout, BatchNormalization\n",
        "from tensorflow.keras.optimizers import Adam\n",
        "from tensorflow.keras.callbacks import EarlyStopping\n",
        "import xgboost as xgb\n",
        "import lightgbm as lgb\n",
        "from sklearn.ensemble import RandomForestRegressor"
      ],
      "metadata": {
        "id": "uKoPUQsC0ap1"
      },
      "execution_count": 2,
      "outputs": []
    },
    {
      "cell_type": "code",
      "source": [
        "# Jupyter note상에 그래프 결과 포함 매직 명령\n",
        "%matplotlib inline\n",
        "\n",
        "# Matplotlib 기본 글꼴 정의\n",
        "plt.rc('font', size=14)\n",
        "plt.rc('axes', labelsize=14, titlesize=14)\n",
        "plt.rc('legend', fontsize=14)\n",
        "plt.rc('xtick', labelsize=10)\n",
        "plt.rc('ytick', labelsize=10)\n",
        "\n",
        "import sys\n",
        "\n",
        "# 노트북이 코랩에서 실행 중인지 체크합니다.\n",
        "if 'google.colab' in sys.modules:\n",
        "    !echo 'debconf debconf/frontend select Noninteractive' | debconf-set-selections\n",
        "\n",
        "    # 나눔 폰트를 설치합니다.\n",
        "    !sudo apt-get -qq -y install fonts-nanum\n",
        "    import matplotlib.font_manager as fm\n",
        "    font_files = fm.findSystemFonts(fontpaths=['/usr/share/fonts/truetype/nanum'])\n",
        "    for fpath in font_files:\n",
        "        fm.fontManager.addfont(fpath)\n",
        "\n",
        "#     # 나눔바른고딕 폰트로 설정합니다.\n",
        "    import matplotlib.pyplot as plt\n",
        "    plt.rc('font', family='NanumBarunGothic')\n",
        "\n",
        "#     # 마이너스 기호 표시 오류 수정\n",
        "    import matplotlib\n",
        "    matplotlib.rcParams['axes.unicode_minus'] = False\n",
        "\n",
        "# 경고 문제 출력 제한\n",
        "import warnings\n",
        "\n",
        "warnings.filterwarnings( 'ignore' )"
      ],
      "metadata": {
        "id": "Vimp2dpz1jnC"
      },
      "execution_count": 3,
      "outputs": []
    },
    {
      "cell_type": "code",
      "source": [
        "device = torch.device('cuda') if torch.cuda.is_available() else torch.device('cpu')"
      ],
      "metadata": {
        "id": "fch0mSu_Whcp"
      },
      "execution_count": 4,
      "outputs": []
    },
    {
      "cell_type": "code",
      "source": [
        "final_data = pd.read_csv('/content/drive/MyDrive/googleCloud AI 인재양성 교육/[프로젝트]상추의 생육 환경 예측 AI/final_dataframe_eng.csv')\n",
        "final_data.head()"
      ],
      "metadata": {
        "colab": {
          "base_uri": "https://localhost:8080/",
          "height": 226
        },
        "id": "1tMxCAFfMmtB",
        "outputId": "169a96f4-59e1-4594-b38c-49884f517ff8"
      },
      "execution_count": 5,
      "outputs": [
        {
          "output_type": "execute_result",
          "data": {
            "text/plain": [
              "   DATE  modified_temperature  temperature  modified_humidity   humidity  \\\n",
              "0     1              0.282266    27.542751           0.325199  78.075041   \n",
              "1     2              0.373346    26.678482           0.386093  77.590048   \n",
              "2     3              0.463535    26.157335           0.422638  77.366091   \n",
              "3     4              0.396371    26.522891           0.319320  78.131650   \n",
              "4     5              0.373346    26.678482           0.386093  77.590048   \n",
              "\n",
              "   modified_co2         co2  modified_total_light  total_light  \\\n",
              "0      0.001908  523.986590              0.000014  270032.8895   \n",
              "1      0.001854  539.236170              0.000014  269399.5381   \n",
              "2      0.001316  760.150330              0.000014  270032.8895   \n",
              "3      0.001853  539.535758              0.000014  269511.3567   \n",
              "4      0.001854  539.236170              0.000014  269511.3567   \n",
              "\n",
              "   predicted_weight_g  case  \n",
              "0            0.167719     1  \n",
              "1            0.181787     1  \n",
              "2            0.265921     1  \n",
              "3            0.423650     1  \n",
              "4            0.475272     1  "
            ],
            "text/html": [
              "\n",
              "  <div id=\"df-15efb01b-13ea-4a33-991b-56df51f09f54\" class=\"colab-df-container\">\n",
              "    <div>\n",
              "<style scoped>\n",
              "    .dataframe tbody tr th:only-of-type {\n",
              "        vertical-align: middle;\n",
              "    }\n",
              "\n",
              "    .dataframe tbody tr th {\n",
              "        vertical-align: top;\n",
              "    }\n",
              "\n",
              "    .dataframe thead th {\n",
              "        text-align: right;\n",
              "    }\n",
              "</style>\n",
              "<table border=\"1\" class=\"dataframe\">\n",
              "  <thead>\n",
              "    <tr style=\"text-align: right;\">\n",
              "      <th></th>\n",
              "      <th>DATE</th>\n",
              "      <th>modified_temperature</th>\n",
              "      <th>temperature</th>\n",
              "      <th>modified_humidity</th>\n",
              "      <th>humidity</th>\n",
              "      <th>modified_co2</th>\n",
              "      <th>co2</th>\n",
              "      <th>modified_total_light</th>\n",
              "      <th>total_light</th>\n",
              "      <th>predicted_weight_g</th>\n",
              "      <th>case</th>\n",
              "    </tr>\n",
              "  </thead>\n",
              "  <tbody>\n",
              "    <tr>\n",
              "      <th>0</th>\n",
              "      <td>1</td>\n",
              "      <td>0.282266</td>\n",
              "      <td>27.542751</td>\n",
              "      <td>0.325199</td>\n",
              "      <td>78.075041</td>\n",
              "      <td>0.001908</td>\n",
              "      <td>523.986590</td>\n",
              "      <td>0.000014</td>\n",
              "      <td>270032.8895</td>\n",
              "      <td>0.167719</td>\n",
              "      <td>1</td>\n",
              "    </tr>\n",
              "    <tr>\n",
              "      <th>1</th>\n",
              "      <td>2</td>\n",
              "      <td>0.373346</td>\n",
              "      <td>26.678482</td>\n",
              "      <td>0.386093</td>\n",
              "      <td>77.590048</td>\n",
              "      <td>0.001854</td>\n",
              "      <td>539.236170</td>\n",
              "      <td>0.000014</td>\n",
              "      <td>269399.5381</td>\n",
              "      <td>0.181787</td>\n",
              "      <td>1</td>\n",
              "    </tr>\n",
              "    <tr>\n",
              "      <th>2</th>\n",
              "      <td>3</td>\n",
              "      <td>0.463535</td>\n",
              "      <td>26.157335</td>\n",
              "      <td>0.422638</td>\n",
              "      <td>77.366091</td>\n",
              "      <td>0.001316</td>\n",
              "      <td>760.150330</td>\n",
              "      <td>0.000014</td>\n",
              "      <td>270032.8895</td>\n",
              "      <td>0.265921</td>\n",
              "      <td>1</td>\n",
              "    </tr>\n",
              "    <tr>\n",
              "      <th>3</th>\n",
              "      <td>4</td>\n",
              "      <td>0.396371</td>\n",
              "      <td>26.522891</td>\n",
              "      <td>0.319320</td>\n",
              "      <td>78.131650</td>\n",
              "      <td>0.001853</td>\n",
              "      <td>539.535758</td>\n",
              "      <td>0.000014</td>\n",
              "      <td>269511.3567</td>\n",
              "      <td>0.423650</td>\n",
              "      <td>1</td>\n",
              "    </tr>\n",
              "    <tr>\n",
              "      <th>4</th>\n",
              "      <td>5</td>\n",
              "      <td>0.373346</td>\n",
              "      <td>26.678482</td>\n",
              "      <td>0.386093</td>\n",
              "      <td>77.590048</td>\n",
              "      <td>0.001854</td>\n",
              "      <td>539.236170</td>\n",
              "      <td>0.000014</td>\n",
              "      <td>269511.3567</td>\n",
              "      <td>0.475272</td>\n",
              "      <td>1</td>\n",
              "    </tr>\n",
              "  </tbody>\n",
              "</table>\n",
              "</div>\n",
              "    <div class=\"colab-df-buttons\">\n",
              "\n",
              "  <div class=\"colab-df-container\">\n",
              "    <button class=\"colab-df-convert\" onclick=\"convertToInteractive('df-15efb01b-13ea-4a33-991b-56df51f09f54')\"\n",
              "            title=\"Convert this dataframe to an interactive table.\"\n",
              "            style=\"display:none;\">\n",
              "\n",
              "  <svg xmlns=\"http://www.w3.org/2000/svg\" height=\"24px\" viewBox=\"0 -960 960 960\">\n",
              "    <path d=\"M120-120v-720h720v720H120Zm60-500h600v-160H180v160Zm220 220h160v-160H400v160Zm0 220h160v-160H400v160ZM180-400h160v-160H180v160Zm440 0h160v-160H620v160ZM180-180h160v-160H180v160Zm440 0h160v-160H620v160Z\"/>\n",
              "  </svg>\n",
              "    </button>\n",
              "\n",
              "  <style>\n",
              "    .colab-df-container {\n",
              "      display:flex;\n",
              "      gap: 12px;\n",
              "    }\n",
              "\n",
              "    .colab-df-convert {\n",
              "      background-color: #E8F0FE;\n",
              "      border: none;\n",
              "      border-radius: 50%;\n",
              "      cursor: pointer;\n",
              "      display: none;\n",
              "      fill: #1967D2;\n",
              "      height: 32px;\n",
              "      padding: 0 0 0 0;\n",
              "      width: 32px;\n",
              "    }\n",
              "\n",
              "    .colab-df-convert:hover {\n",
              "      background-color: #E2EBFA;\n",
              "      box-shadow: 0px 1px 2px rgba(60, 64, 67, 0.3), 0px 1px 3px 1px rgba(60, 64, 67, 0.15);\n",
              "      fill: #174EA6;\n",
              "    }\n",
              "\n",
              "    .colab-df-buttons div {\n",
              "      margin-bottom: 4px;\n",
              "    }\n",
              "\n",
              "    [theme=dark] .colab-df-convert {\n",
              "      background-color: #3B4455;\n",
              "      fill: #D2E3FC;\n",
              "    }\n",
              "\n",
              "    [theme=dark] .colab-df-convert:hover {\n",
              "      background-color: #434B5C;\n",
              "      box-shadow: 0px 1px 3px 1px rgba(0, 0, 0, 0.15);\n",
              "      filter: drop-shadow(0px 1px 2px rgba(0, 0, 0, 0.3));\n",
              "      fill: #FFFFFF;\n",
              "    }\n",
              "  </style>\n",
              "\n",
              "    <script>\n",
              "      const buttonEl =\n",
              "        document.querySelector('#df-15efb01b-13ea-4a33-991b-56df51f09f54 button.colab-df-convert');\n",
              "      buttonEl.style.display =\n",
              "        google.colab.kernel.accessAllowed ? 'block' : 'none';\n",
              "\n",
              "      async function convertToInteractive(key) {\n",
              "        const element = document.querySelector('#df-15efb01b-13ea-4a33-991b-56df51f09f54');\n",
              "        const dataTable =\n",
              "          await google.colab.kernel.invokeFunction('convertToInteractive',\n",
              "                                                    [key], {});\n",
              "        if (!dataTable) return;\n",
              "\n",
              "        const docLinkHtml = 'Like what you see? Visit the ' +\n",
              "          '<a target=\"_blank\" href=https://colab.research.google.com/notebooks/data_table.ipynb>data table notebook</a>'\n",
              "          + ' to learn more about interactive tables.';\n",
              "        element.innerHTML = '';\n",
              "        dataTable['output_type'] = 'display_data';\n",
              "        await google.colab.output.renderOutput(dataTable, element);\n",
              "        const docLink = document.createElement('div');\n",
              "        docLink.innerHTML = docLinkHtml;\n",
              "        element.appendChild(docLink);\n",
              "      }\n",
              "    </script>\n",
              "  </div>\n",
              "\n",
              "\n",
              "<div id=\"df-bed83459-55fe-45f0-8a43-ba428d230827\">\n",
              "  <button class=\"colab-df-quickchart\" onclick=\"quickchart('df-bed83459-55fe-45f0-8a43-ba428d230827')\"\n",
              "            title=\"Suggest charts\"\n",
              "            style=\"display:none;\">\n",
              "\n",
              "<svg xmlns=\"http://www.w3.org/2000/svg\" height=\"24px\"viewBox=\"0 0 24 24\"\n",
              "     width=\"24px\">\n",
              "    <g>\n",
              "        <path d=\"M19 3H5c-1.1 0-2 .9-2 2v14c0 1.1.9 2 2 2h14c1.1 0 2-.9 2-2V5c0-1.1-.9-2-2-2zM9 17H7v-7h2v7zm4 0h-2V7h2v10zm4 0h-2v-4h2v4z\"/>\n",
              "    </g>\n",
              "</svg>\n",
              "  </button>\n",
              "\n",
              "<style>\n",
              "  .colab-df-quickchart {\n",
              "      --bg-color: #E8F0FE;\n",
              "      --fill-color: #1967D2;\n",
              "      --hover-bg-color: #E2EBFA;\n",
              "      --hover-fill-color: #174EA6;\n",
              "      --disabled-fill-color: #AAA;\n",
              "      --disabled-bg-color: #DDD;\n",
              "  }\n",
              "\n",
              "  [theme=dark] .colab-df-quickchart {\n",
              "      --bg-color: #3B4455;\n",
              "      --fill-color: #D2E3FC;\n",
              "      --hover-bg-color: #434B5C;\n",
              "      --hover-fill-color: #FFFFFF;\n",
              "      --disabled-bg-color: #3B4455;\n",
              "      --disabled-fill-color: #666;\n",
              "  }\n",
              "\n",
              "  .colab-df-quickchart {\n",
              "    background-color: var(--bg-color);\n",
              "    border: none;\n",
              "    border-radius: 50%;\n",
              "    cursor: pointer;\n",
              "    display: none;\n",
              "    fill: var(--fill-color);\n",
              "    height: 32px;\n",
              "    padding: 0;\n",
              "    width: 32px;\n",
              "  }\n",
              "\n",
              "  .colab-df-quickchart:hover {\n",
              "    background-color: var(--hover-bg-color);\n",
              "    box-shadow: 0 1px 2px rgba(60, 64, 67, 0.3), 0 1px 3px 1px rgba(60, 64, 67, 0.15);\n",
              "    fill: var(--button-hover-fill-color);\n",
              "  }\n",
              "\n",
              "  .colab-df-quickchart-complete:disabled,\n",
              "  .colab-df-quickchart-complete:disabled:hover {\n",
              "    background-color: var(--disabled-bg-color);\n",
              "    fill: var(--disabled-fill-color);\n",
              "    box-shadow: none;\n",
              "  }\n",
              "\n",
              "  .colab-df-spinner {\n",
              "    border: 2px solid var(--fill-color);\n",
              "    border-color: transparent;\n",
              "    border-bottom-color: var(--fill-color);\n",
              "    animation:\n",
              "      spin 1s steps(1) infinite;\n",
              "  }\n",
              "\n",
              "  @keyframes spin {\n",
              "    0% {\n",
              "      border-color: transparent;\n",
              "      border-bottom-color: var(--fill-color);\n",
              "      border-left-color: var(--fill-color);\n",
              "    }\n",
              "    20% {\n",
              "      border-color: transparent;\n",
              "      border-left-color: var(--fill-color);\n",
              "      border-top-color: var(--fill-color);\n",
              "    }\n",
              "    30% {\n",
              "      border-color: transparent;\n",
              "      border-left-color: var(--fill-color);\n",
              "      border-top-color: var(--fill-color);\n",
              "      border-right-color: var(--fill-color);\n",
              "    }\n",
              "    40% {\n",
              "      border-color: transparent;\n",
              "      border-right-color: var(--fill-color);\n",
              "      border-top-color: var(--fill-color);\n",
              "    }\n",
              "    60% {\n",
              "      border-color: transparent;\n",
              "      border-right-color: var(--fill-color);\n",
              "    }\n",
              "    80% {\n",
              "      border-color: transparent;\n",
              "      border-right-color: var(--fill-color);\n",
              "      border-bottom-color: var(--fill-color);\n",
              "    }\n",
              "    90% {\n",
              "      border-color: transparent;\n",
              "      border-bottom-color: var(--fill-color);\n",
              "    }\n",
              "  }\n",
              "</style>\n",
              "\n",
              "  <script>\n",
              "    async function quickchart(key) {\n",
              "      const quickchartButtonEl =\n",
              "        document.querySelector('#' + key + ' button');\n",
              "      quickchartButtonEl.disabled = true;  // To prevent multiple clicks.\n",
              "      quickchartButtonEl.classList.add('colab-df-spinner');\n",
              "      try {\n",
              "        const charts = await google.colab.kernel.invokeFunction(\n",
              "            'suggestCharts', [key], {});\n",
              "      } catch (error) {\n",
              "        console.error('Error during call to suggestCharts:', error);\n",
              "      }\n",
              "      quickchartButtonEl.classList.remove('colab-df-spinner');\n",
              "      quickchartButtonEl.classList.add('colab-df-quickchart-complete');\n",
              "    }\n",
              "    (() => {\n",
              "      let quickchartButtonEl =\n",
              "        document.querySelector('#df-bed83459-55fe-45f0-8a43-ba428d230827 button');\n",
              "      quickchartButtonEl.style.display =\n",
              "        google.colab.kernel.accessAllowed ? 'block' : 'none';\n",
              "    })();\n",
              "  </script>\n",
              "</div>\n",
              "\n",
              "    </div>\n",
              "  </div>\n"
            ],
            "application/vnd.google.colaboratory.intrinsic+json": {
              "type": "dataframe",
              "variable_name": "final_data",
              "summary": "{\n  \"name\": \"final_data\",\n  \"rows\": 729,\n  \"fields\": [\n    {\n      \"column\": \"DATE\",\n      \"properties\": {\n        \"dtype\": \"number\",\n        \"std\": 7,\n        \"min\": 1,\n        \"max\": 27,\n        \"num_unique_values\": 27,\n        \"samples\": [\n          9,\n          14,\n          10\n        ],\n        \"semantic_type\": \"\",\n        \"description\": \"\"\n      }\n    },\n    {\n      \"column\": \"modified_temperature\",\n      \"properties\": {\n        \"dtype\": \"number\",\n        \"std\": 5.041904321369182,\n        \"min\": 0.0906715458,\n        \"max\": 92.90382039,\n        \"num_unique_values\": 724,\n        \"samples\": [\n          0.614524585,\n          0.684313168,\n          0.290926732\n        ],\n        \"semantic_type\": \"\",\n        \"description\": \"\"\n      }\n    },\n    {\n      \"column\": \"temperature\",\n      \"properties\": {\n        \"dtype\": \"number\",\n        \"std\": 3.091601859536718,\n        \"min\": 16.67331817,\n        \"max\": 35.02881826,\n        \"num_unique_values\": 724,\n        \"samples\": [\n          25.6272742,\n          25.46131924,\n          27.43729156\n        ],\n        \"semantic_type\": \"\",\n        \"description\": \"\"\n      }\n    },\n    {\n      \"column\": \"modified_humidity\",\n      \"properties\": {\n        \"dtype\": \"number\",\n        \"std\": 5.152074314354433,\n        \"min\": 0.0182104542,\n        \"max\": 81.04568383,\n        \"num_unique_values\": 724,\n        \"samples\": [\n          0.0595691756,\n          0.925773011,\n          0.187015415\n        ],\n        \"semantic_type\": \"\",\n        \"description\": \"\"\n      }\n    },\n    {\n      \"column\": \"humidity\",\n      \"properties\": {\n        \"dtype\": \"number\",\n        \"std\": 11.016207070913302,\n        \"min\": 20.08648781,\n        \"max\": 90.66691563,\n        \"num_unique_values\": 724,\n        \"samples\": [\n          58.21279437,\n          76.08017839,\n          80.34715279\n        ],\n        \"semantic_type\": \"\",\n        \"description\": \"\"\n      }\n    },\n    {\n      \"column\": \"modified_co2\",\n      \"properties\": {\n        \"dtype\": \"number\",\n        \"std\": 0.0003385300731571361,\n        \"min\": 0.000989538072,\n        \"max\": 0.00285341607,\n        \"num_unique_values\": 724,\n        \"samples\": [\n          0.00234946408,\n          0.00186207458,\n          0.00191660123\n        ],\n        \"semantic_type\": \"\",\n        \"description\": \"\"\n      }\n    },\n    {\n      \"column\": \"co2\",\n      \"properties\": {\n        \"dtype\": \"number\",\n        \"std\": 95.82938207056513,\n        \"min\": 350.4571272,\n        \"max\": 1010.572537,\n        \"num_unique_values\": 724,\n        \"samples\": [\n          425.6289801,\n          537.0354167,\n          521.7569444\n        ],\n        \"semantic_type\": \"\",\n        \"description\": \"\"\n      }\n    },\n    {\n      \"column\": \"modified_total_light\",\n      \"properties\": {\n        \"dtype\": \"number\",\n        \"std\": 0.0010001735989427056,\n        \"min\": 2.78e-06,\n        \"max\": 0.0153092468,\n        \"num_unique_values\": 266,\n        \"samples\": [\n          0.000104464005,\n          9.58e-05,\n          0.0153092468\n        ],\n        \"semantic_type\": \"\",\n        \"description\": \"\"\n      }\n    },\n    {\n      \"column\": \"total_light\",\n      \"properties\": {\n        \"dtype\": \"number\",\n        \"std\": 81937.59413228411,\n        \"min\": 0.0,\n        \"max\": 559488.881,\n        \"num_unique_values\": 574,\n        \"samples\": [\n          209513.8874,\n          247075.9404,\n          254231.0175\n        ],\n        \"semantic_type\": \"\",\n        \"description\": \"\"\n      }\n    },\n    {\n      \"column\": \"predicted_weight_g\",\n      \"properties\": {\n        \"dtype\": \"number\",\n        \"std\": 39.93610343977789,\n        \"min\": 0.167719388,\n        \"max\": 162.4793769,\n        \"num_unique_values\": 725,\n        \"samples\": [\n          6.999630851,\n          5.351971042,\n          6.926151379\n        ],\n        \"semantic_type\": \"\",\n        \"description\": \"\"\n      }\n    },\n    {\n      \"column\": \"case\",\n      \"properties\": {\n        \"dtype\": \"number\",\n        \"std\": 7,\n        \"min\": 1,\n        \"max\": 27,\n        \"num_unique_values\": 27,\n        \"samples\": [\n          9,\n          14,\n          10\n        ],\n        \"semantic_type\": \"\",\n        \"description\": \"\"\n      }\n    }\n  ]\n}"
            }
          },
          "metadata": {},
          "execution_count": 5
        }
      ]
    },
    {
      "cell_type": "markdown",
      "source": [
        "# EDA"
      ],
      "metadata": {
        "id": "fgG9FPMFoQXt"
      }
    },
    {
      "cell_type": "markdown",
      "source": [
        "# Preprocessing"
      ],
      "metadata": {
        "id": "kUEnXwRPoWEz"
      }
    },
    {
      "cell_type": "code",
      "source": [
        "final_data.columns"
      ],
      "metadata": {
        "colab": {
          "base_uri": "https://localhost:8080/"
        },
        "id": "I-WrxZDrNpYp",
        "outputId": "e649ea71-28e5-4635-be7d-776b75f13ec5"
      },
      "execution_count": 6,
      "outputs": [
        {
          "output_type": "execute_result",
          "data": {
            "text/plain": [
              "Index(['DATE', 'modified_temperature', 'temperature', 'modified_humidity',\n",
              "       'humidity', 'modified_co2', 'co2', 'modified_total_light',\n",
              "       'total_light', 'predicted_weight_g', 'case'],\n",
              "      dtype='object')"
            ]
          },
          "metadata": {},
          "execution_count": 6
        }
      ]
    },
    {
      "cell_type": "code",
      "source": [
        "delete_cols = ['temperature', 'humidity', 'co2', 'total_light', 'case']\n",
        "final_data = final_data.drop(delete_cols, axis=1)\n",
        "final_data.columns"
      ],
      "metadata": {
        "colab": {
          "base_uri": "https://localhost:8080/"
        },
        "id": "j7cDcorGOUV4",
        "outputId": "fbdc9f27-d5db-43e0-d009-683932488e61"
      },
      "execution_count": 7,
      "outputs": [
        {
          "output_type": "execute_result",
          "data": {
            "text/plain": [
              "Index(['DATE', 'modified_temperature', 'modified_humidity', 'modified_co2',\n",
              "       'modified_total_light', 'predicted_weight_g'],\n",
              "      dtype='object')"
            ]
          },
          "metadata": {},
          "execution_count": 7
        }
      ]
    },
    {
      "cell_type": "code",
      "source": [
        "X = final_data[['DATE', 'modified_temperature', 'modified_humidity', 'modified_co2', 'modified_total_light']]\n",
        "y = final_data['predicted_weight_g']"
      ],
      "metadata": {
        "id": "hslhLL5dS0oY"
      },
      "execution_count": 10,
      "outputs": []
    },
    {
      "cell_type": "code",
      "source": [
        "# 데이터 분할\n",
        "X_train, X_test, y_train, y_test = train_test_split(X, y, test_size=0.2, random_state=42)\n",
        "\n",
        "print(X_train.shape)\n",
        "print(X_test.shape)\n",
        "print(y_train.shape)\n",
        "print(y_test.shape)\n",
        "\n",
        "# 데이터 스케일링\n",
        "scaler = MinMaxScaler()\n",
        "X_train_scaled = scaler.fit_transform(X_train)\n",
        "X_test_scaled = scaler.transform(X_test)"
      ],
      "metadata": {
        "colab": {
          "base_uri": "https://localhost:8080/"
        },
        "id": "rWiaIpnDPe-X",
        "outputId": "d6387025-b4c4-466e-b62a-4dd28919122a"
      },
      "execution_count": 12,
      "outputs": [
        {
          "output_type": "stream",
          "name": "stdout",
          "text": [
            "(583, 5)\n",
            "(146, 5)\n",
            "(583,)\n",
            "(146,)\n"
          ]
        }
      ]
    },
    {
      "cell_type": "markdown",
      "source": [
        "# Modeling\n",
        "- XGBoost : 결정 트리 기반의 앙상블 학습 모델\n",
        "- LightGBM : XGBoost와 유사한 앙상블 학습 기법이지만, 더 빠르고 효율적인 학습을 위해 최적화된 모델\n",
        "- Random Forest Regression : 여러 개의 결정 트리를 사용하여 예측을 수행하는 앙상블 학습 모델\n",
        "- Simple DNN : 간단한 DNN 모델\n",
        "\n",
        "참고\n",
        "\n",
        "https://paperswithcode.com/area/time-series (모델 성능 참고)\n",
        "\n",
        "https://towardsdatascience.com/ensemble-models-5a62d4f4cb0c (앙상블 모델 설명)"
      ],
      "metadata": {
        "id": "0sjhYrOStjit"
      }
    },
    {
      "cell_type": "markdown",
      "source": [
        "## 1. Random Forest Regression\n",
        "여러 개의 결정 트리를 사용하여 예측을 수행하는 앙상블 학습 모델\n",
        "\n",
        "장점:\n",
        "\n",
        "- 여러 트리의 예측을 평균화하기 때문에 과적합 가능성이 낮다\n",
        "- 구현이 비교적 간단하며, 기본 설정으로도 좋은 성능을 보임\n",
        "\n",
        "단점:\n",
        "- 많은 트리를 생성하므로 메모리 사용량이 많을 수 있음\n",
        "- 많은 트리를 거쳐 예측하기 때문에 실시간 예측에는 부적합할 수 있음"
      ],
      "metadata": {
        "id": "K7KR59uzgFoY"
      }
    },
    {
      "cell_type": "code",
      "source": [
        "# 랜덤 포레스트 모델 학습\n",
        "rf_model = RandomForestRegressor(n_estimators=300, random_state=42)\n",
        "rf_model.fit(X_train_scaled, y_train)"
      ],
      "metadata": {
        "colab": {
          "base_uri": "https://localhost:8080/",
          "height": 0
        },
        "id": "sGaPuvONPTBi",
        "outputId": "e42d34c0-c736-486f-f731-e4d4912923c7"
      },
      "execution_count": 13,
      "outputs": [
        {
          "output_type": "execute_result",
          "data": {
            "text/plain": [
              "RandomForestRegressor(n_estimators=300, random_state=42)"
            ],
            "text/html": [
              "<style>#sk-container-id-1 {color: black;}#sk-container-id-1 pre{padding: 0;}#sk-container-id-1 div.sk-toggleable {background-color: white;}#sk-container-id-1 label.sk-toggleable__label {cursor: pointer;display: block;width: 100%;margin-bottom: 0;padding: 0.3em;box-sizing: border-box;text-align: center;}#sk-container-id-1 label.sk-toggleable__label-arrow:before {content: \"▸\";float: left;margin-right: 0.25em;color: #696969;}#sk-container-id-1 label.sk-toggleable__label-arrow:hover:before {color: black;}#sk-container-id-1 div.sk-estimator:hover label.sk-toggleable__label-arrow:before {color: black;}#sk-container-id-1 div.sk-toggleable__content {max-height: 0;max-width: 0;overflow: hidden;text-align: left;background-color: #f0f8ff;}#sk-container-id-1 div.sk-toggleable__content pre {margin: 0.2em;color: black;border-radius: 0.25em;background-color: #f0f8ff;}#sk-container-id-1 input.sk-toggleable__control:checked~div.sk-toggleable__content {max-height: 200px;max-width: 100%;overflow: auto;}#sk-container-id-1 input.sk-toggleable__control:checked~label.sk-toggleable__label-arrow:before {content: \"▾\";}#sk-container-id-1 div.sk-estimator input.sk-toggleable__control:checked~label.sk-toggleable__label {background-color: #d4ebff;}#sk-container-id-1 div.sk-label input.sk-toggleable__control:checked~label.sk-toggleable__label {background-color: #d4ebff;}#sk-container-id-1 input.sk-hidden--visually {border: 0;clip: rect(1px 1px 1px 1px);clip: rect(1px, 1px, 1px, 1px);height: 1px;margin: -1px;overflow: hidden;padding: 0;position: absolute;width: 1px;}#sk-container-id-1 div.sk-estimator {font-family: monospace;background-color: #f0f8ff;border: 1px dotted black;border-radius: 0.25em;box-sizing: border-box;margin-bottom: 0.5em;}#sk-container-id-1 div.sk-estimator:hover {background-color: #d4ebff;}#sk-container-id-1 div.sk-parallel-item::after {content: \"\";width: 100%;border-bottom: 1px solid gray;flex-grow: 1;}#sk-container-id-1 div.sk-label:hover label.sk-toggleable__label {background-color: #d4ebff;}#sk-container-id-1 div.sk-serial::before {content: \"\";position: absolute;border-left: 1px solid gray;box-sizing: border-box;top: 0;bottom: 0;left: 50%;z-index: 0;}#sk-container-id-1 div.sk-serial {display: flex;flex-direction: column;align-items: center;background-color: white;padding-right: 0.2em;padding-left: 0.2em;position: relative;}#sk-container-id-1 div.sk-item {position: relative;z-index: 1;}#sk-container-id-1 div.sk-parallel {display: flex;align-items: stretch;justify-content: center;background-color: white;position: relative;}#sk-container-id-1 div.sk-item::before, #sk-container-id-1 div.sk-parallel-item::before {content: \"\";position: absolute;border-left: 1px solid gray;box-sizing: border-box;top: 0;bottom: 0;left: 50%;z-index: -1;}#sk-container-id-1 div.sk-parallel-item {display: flex;flex-direction: column;z-index: 1;position: relative;background-color: white;}#sk-container-id-1 div.sk-parallel-item:first-child::after {align-self: flex-end;width: 50%;}#sk-container-id-1 div.sk-parallel-item:last-child::after {align-self: flex-start;width: 50%;}#sk-container-id-1 div.sk-parallel-item:only-child::after {width: 0;}#sk-container-id-1 div.sk-dashed-wrapped {border: 1px dashed gray;margin: 0 0.4em 0.5em 0.4em;box-sizing: border-box;padding-bottom: 0.4em;background-color: white;}#sk-container-id-1 div.sk-label label {font-family: monospace;font-weight: bold;display: inline-block;line-height: 1.2em;}#sk-container-id-1 div.sk-label-container {text-align: center;}#sk-container-id-1 div.sk-container {/* jupyter's `normalize.less` sets `[hidden] { display: none; }` but bootstrap.min.css set `[hidden] { display: none !important; }` so we also need the `!important` here to be able to override the default hidden behavior on the sphinx rendered scikit-learn.org. See: https://github.com/scikit-learn/scikit-learn/issues/21755 */display: inline-block !important;position: relative;}#sk-container-id-1 div.sk-text-repr-fallback {display: none;}</style><div id=\"sk-container-id-1\" class=\"sk-top-container\"><div class=\"sk-text-repr-fallback\"><pre>RandomForestRegressor(n_estimators=300, random_state=42)</pre><b>In a Jupyter environment, please rerun this cell to show the HTML representation or trust the notebook. <br />On GitHub, the HTML representation is unable to render, please try loading this page with nbviewer.org.</b></div><div class=\"sk-container\" hidden><div class=\"sk-item\"><div class=\"sk-estimator sk-toggleable\"><input class=\"sk-toggleable__control sk-hidden--visually\" id=\"sk-estimator-id-1\" type=\"checkbox\" checked><label for=\"sk-estimator-id-1\" class=\"sk-toggleable__label sk-toggleable__label-arrow\">RandomForestRegressor</label><div class=\"sk-toggleable__content\"><pre>RandomForestRegressor(n_estimators=300, random_state=42)</pre></div></div></div></div></div>"
            ]
          },
          "metadata": {},
          "execution_count": 13
        }
      ]
    },
    {
      "cell_type": "code",
      "source": [
        "y_train_pred = rf_model.predict(X_train_scaled)\n",
        "y_test_pred = rf_model.predict(X_test_scaled)\n",
        "train_rmse = np.sqrt(mean_squared_error(y_train, y_train_pred))\n",
        "rf_test_rmse = np.sqrt(mean_squared_error(y_test, y_test_pred))\n",
        "print(f\"Train RMSE: {train_rmse:.3f}\")\n",
        "print(f\"Test RMSE: {rf_test_rmse:.3f}\")"
      ],
      "metadata": {
        "colab": {
          "base_uri": "https://localhost:8080/"
        },
        "id": "2WkqUFbbU9q7",
        "outputId": "9182bd3f-77e8-44e2-c36d-f6e4b2f595d4"
      },
      "execution_count": 14,
      "outputs": [
        {
          "output_type": "stream",
          "name": "stdout",
          "text": [
            "Train RMSE: 5.228\n",
            "Test RMSE: 14.544\n"
          ]
        }
      ]
    },
    {
      "cell_type": "markdown",
      "source": [
        "## 2. XGBoost (Extreme Gradient Boosting)\n",
        "XGBoost는 결정 트리 기반의 강력한 앙상블 학습 기법\n",
        "\n",
        "장점:\n",
        "- 빠른 연산 속도와 높은 예측 성능을 제공\n",
        "- 과적합 방지를 위한 다양한 규제 기법을 포함\n",
        "\n",
        "단점:\n",
        "- 큰 데이터셋에서는 메모리 사용량이 많다\n",
        "- 하이퍼파라미터 튜닝이 복잡할 수 있다"
      ],
      "metadata": {
        "id": "IZR4i24aMbOd"
      }
    },
    {
      "cell_type": "code",
      "source": [
        "# XGBoost 모델 학습\n",
        "xgb_model = xgb.XGBRegressor(n_estimators=100, random_state=42)\n",
        "xgb_model.fit(X_train_scaled, y_train)"
      ],
      "metadata": {
        "colab": {
          "base_uri": "https://localhost:8080/",
          "height": 0
        },
        "id": "phsXhvesYlrI",
        "outputId": "aad07e5b-b924-45ee-afaa-9e860019697b"
      },
      "execution_count": 15,
      "outputs": [
        {
          "output_type": "execute_result",
          "data": {
            "text/plain": [
              "XGBRegressor(base_score=None, booster=None, callbacks=None,\n",
              "             colsample_bylevel=None, colsample_bynode=None,\n",
              "             colsample_bytree=None, device=None, early_stopping_rounds=None,\n",
              "             enable_categorical=False, eval_metric=None, feature_types=None,\n",
              "             gamma=None, grow_policy=None, importance_type=None,\n",
              "             interaction_constraints=None, learning_rate=None, max_bin=None,\n",
              "             max_cat_threshold=None, max_cat_to_onehot=None,\n",
              "             max_delta_step=None, max_depth=None, max_leaves=None,\n",
              "             min_child_weight=None, missing=nan, monotone_constraints=None,\n",
              "             multi_strategy=None, n_estimators=100, n_jobs=None,\n",
              "             num_parallel_tree=None, random_state=42, ...)"
            ],
            "text/html": [
              "<style>#sk-container-id-2 {color: black;}#sk-container-id-2 pre{padding: 0;}#sk-container-id-2 div.sk-toggleable {background-color: white;}#sk-container-id-2 label.sk-toggleable__label {cursor: pointer;display: block;width: 100%;margin-bottom: 0;padding: 0.3em;box-sizing: border-box;text-align: center;}#sk-container-id-2 label.sk-toggleable__label-arrow:before {content: \"▸\";float: left;margin-right: 0.25em;color: #696969;}#sk-container-id-2 label.sk-toggleable__label-arrow:hover:before {color: black;}#sk-container-id-2 div.sk-estimator:hover label.sk-toggleable__label-arrow:before {color: black;}#sk-container-id-2 div.sk-toggleable__content {max-height: 0;max-width: 0;overflow: hidden;text-align: left;background-color: #f0f8ff;}#sk-container-id-2 div.sk-toggleable__content pre {margin: 0.2em;color: black;border-radius: 0.25em;background-color: #f0f8ff;}#sk-container-id-2 input.sk-toggleable__control:checked~div.sk-toggleable__content {max-height: 200px;max-width: 100%;overflow: auto;}#sk-container-id-2 input.sk-toggleable__control:checked~label.sk-toggleable__label-arrow:before {content: \"▾\";}#sk-container-id-2 div.sk-estimator input.sk-toggleable__control:checked~label.sk-toggleable__label {background-color: #d4ebff;}#sk-container-id-2 div.sk-label input.sk-toggleable__control:checked~label.sk-toggleable__label {background-color: #d4ebff;}#sk-container-id-2 input.sk-hidden--visually {border: 0;clip: rect(1px 1px 1px 1px);clip: rect(1px, 1px, 1px, 1px);height: 1px;margin: -1px;overflow: hidden;padding: 0;position: absolute;width: 1px;}#sk-container-id-2 div.sk-estimator {font-family: monospace;background-color: #f0f8ff;border: 1px dotted black;border-radius: 0.25em;box-sizing: border-box;margin-bottom: 0.5em;}#sk-container-id-2 div.sk-estimator:hover {background-color: #d4ebff;}#sk-container-id-2 div.sk-parallel-item::after {content: \"\";width: 100%;border-bottom: 1px solid gray;flex-grow: 1;}#sk-container-id-2 div.sk-label:hover label.sk-toggleable__label {background-color: #d4ebff;}#sk-container-id-2 div.sk-serial::before {content: \"\";position: absolute;border-left: 1px solid gray;box-sizing: border-box;top: 0;bottom: 0;left: 50%;z-index: 0;}#sk-container-id-2 div.sk-serial {display: flex;flex-direction: column;align-items: center;background-color: white;padding-right: 0.2em;padding-left: 0.2em;position: relative;}#sk-container-id-2 div.sk-item {position: relative;z-index: 1;}#sk-container-id-2 div.sk-parallel {display: flex;align-items: stretch;justify-content: center;background-color: white;position: relative;}#sk-container-id-2 div.sk-item::before, #sk-container-id-2 div.sk-parallel-item::before {content: \"\";position: absolute;border-left: 1px solid gray;box-sizing: border-box;top: 0;bottom: 0;left: 50%;z-index: -1;}#sk-container-id-2 div.sk-parallel-item {display: flex;flex-direction: column;z-index: 1;position: relative;background-color: white;}#sk-container-id-2 div.sk-parallel-item:first-child::after {align-self: flex-end;width: 50%;}#sk-container-id-2 div.sk-parallel-item:last-child::after {align-self: flex-start;width: 50%;}#sk-container-id-2 div.sk-parallel-item:only-child::after {width: 0;}#sk-container-id-2 div.sk-dashed-wrapped {border: 1px dashed gray;margin: 0 0.4em 0.5em 0.4em;box-sizing: border-box;padding-bottom: 0.4em;background-color: white;}#sk-container-id-2 div.sk-label label {font-family: monospace;font-weight: bold;display: inline-block;line-height: 1.2em;}#sk-container-id-2 div.sk-label-container {text-align: center;}#sk-container-id-2 div.sk-container {/* jupyter's `normalize.less` sets `[hidden] { display: none; }` but bootstrap.min.css set `[hidden] { display: none !important; }` so we also need the `!important` here to be able to override the default hidden behavior on the sphinx rendered scikit-learn.org. See: https://github.com/scikit-learn/scikit-learn/issues/21755 */display: inline-block !important;position: relative;}#sk-container-id-2 div.sk-text-repr-fallback {display: none;}</style><div id=\"sk-container-id-2\" class=\"sk-top-container\"><div class=\"sk-text-repr-fallback\"><pre>XGBRegressor(base_score=None, booster=None, callbacks=None,\n",
              "             colsample_bylevel=None, colsample_bynode=None,\n",
              "             colsample_bytree=None, device=None, early_stopping_rounds=None,\n",
              "             enable_categorical=False, eval_metric=None, feature_types=None,\n",
              "             gamma=None, grow_policy=None, importance_type=None,\n",
              "             interaction_constraints=None, learning_rate=None, max_bin=None,\n",
              "             max_cat_threshold=None, max_cat_to_onehot=None,\n",
              "             max_delta_step=None, max_depth=None, max_leaves=None,\n",
              "             min_child_weight=None, missing=nan, monotone_constraints=None,\n",
              "             multi_strategy=None, n_estimators=100, n_jobs=None,\n",
              "             num_parallel_tree=None, random_state=42, ...)</pre><b>In a Jupyter environment, please rerun this cell to show the HTML representation or trust the notebook. <br />On GitHub, the HTML representation is unable to render, please try loading this page with nbviewer.org.</b></div><div class=\"sk-container\" hidden><div class=\"sk-item\"><div class=\"sk-estimator sk-toggleable\"><input class=\"sk-toggleable__control sk-hidden--visually\" id=\"sk-estimator-id-2\" type=\"checkbox\" checked><label for=\"sk-estimator-id-2\" class=\"sk-toggleable__label sk-toggleable__label-arrow\">XGBRegressor</label><div class=\"sk-toggleable__content\"><pre>XGBRegressor(base_score=None, booster=None, callbacks=None,\n",
              "             colsample_bylevel=None, colsample_bynode=None,\n",
              "             colsample_bytree=None, device=None, early_stopping_rounds=None,\n",
              "             enable_categorical=False, eval_metric=None, feature_types=None,\n",
              "             gamma=None, grow_policy=None, importance_type=None,\n",
              "             interaction_constraints=None, learning_rate=None, max_bin=None,\n",
              "             max_cat_threshold=None, max_cat_to_onehot=None,\n",
              "             max_delta_step=None, max_depth=None, max_leaves=None,\n",
              "             min_child_weight=None, missing=nan, monotone_constraints=None,\n",
              "             multi_strategy=None, n_estimators=100, n_jobs=None,\n",
              "             num_parallel_tree=None, random_state=42, ...)</pre></div></div></div></div></div>"
            ]
          },
          "metadata": {},
          "execution_count": 15
        }
      ]
    },
    {
      "cell_type": "code",
      "source": [
        "# 모델 평가 (RMSE)\n",
        "y_train_pred = xgb_model.predict(X_train_scaled)\n",
        "y_test_pred = xgb_model.predict(X_test_scaled)\n",
        "train_rmse = np.sqrt(mean_squared_error(y_train, y_train_pred))\n",
        "xgb_test_rmse = np.sqrt(mean_squared_error(y_test, y_test_pred))\n",
        "print(f\"Train RMSE: {train_rmse:.3f}\")\n",
        "print(f\"Test RMSE: {xgb_test_rmse:.3f}\")"
      ],
      "metadata": {
        "colab": {
          "base_uri": "https://localhost:8080/"
        },
        "id": "ZF70RqoJYq1U",
        "outputId": "489f8231-f8f5-4fa9-8cec-0fd6853aa00a"
      },
      "execution_count": 16,
      "outputs": [
        {
          "output_type": "stream",
          "name": "stdout",
          "text": [
            "Train RMSE: 0.149\n",
            "Test RMSE: 13.124\n"
          ]
        }
      ]
    },
    {
      "cell_type": "markdown",
      "source": [
        "## 3. LightGBM (Light Gradient Boosting Machine)\n",
        "LightGBM은 대용량 데이터셋에서 빠르고 효율적인 학습을 위한 앙상블 기법\n",
        "\n",
        "장점:\n",
        "- 학습 속도가 매우 빠름\n",
        "- 메모리 효율성이 높음\n",
        "\n",
        "단점:\n",
        "\n",
        "- 작은 데이터셋에서는 성능이 저하될 수 있음\n",
        "- 데이터 전처리와 형식에 민감할 수 있음"
      ],
      "metadata": {
        "id": "RDOwCOr5f-J_"
      }
    },
    {
      "cell_type": "code",
      "source": [
        "# LightGBM 데이터셋 생성\n",
        "train_data = lgb.Dataset(X_train_scaled, label=y_train)\n",
        "test_data = lgb.Dataset(X_test_scaled, label=y_test, reference=train_data)\n",
        "\n",
        "# LightGBM 모델 학습\n",
        "params = {\n",
        "    'objective': 'regression',\n",
        "    'metric': 'rmse',\n",
        "    'boosting_type': 'gbdt',\n",
        "    'learning_rate': 0.01,\n",
        "    'num_leaves': 31,\n",
        "    'verbose': -1\n",
        "}\n",
        "\n",
        "lgb_model = lgb.train(params, train_data, num_boost_round=1000, valid_sets=[train_data, test_data])"
      ],
      "metadata": {
        "id": "V4XfjezPY0cZ"
      },
      "execution_count": 17,
      "outputs": []
    },
    {
      "cell_type": "code",
      "source": [
        "y_train_pred = lgb_model.predict(X_train_scaled, num_iteration=lgb_model.best_iteration)\n",
        "y_test_pred = lgb_model.predict(X_test_scaled, num_iteration=lgb_model.best_iteration)\n",
        "train_rmse = np.sqrt(mean_squared_error(y_train, y_train_pred))\n",
        "lgb_test_rmse = np.sqrt(mean_squared_error(y_test, y_test_pred))\n",
        "print(f\"Train RMSE: {train_rmse:.3f}\")\n",
        "print(f\"Test RMSE: {lgb_test_rmse:.3f}\")"
      ],
      "metadata": {
        "colab": {
          "base_uri": "https://localhost:8080/"
        },
        "id": "JCYhlCzRZbQt",
        "outputId": "e6db1b25-f557-443c-e967-e3c2352c9298"
      },
      "execution_count": 18,
      "outputs": [
        {
          "output_type": "stream",
          "name": "stdout",
          "text": [
            "Train RMSE: 5.527\n",
            "Test RMSE: 12.867\n"
          ]
        }
      ]
    },
    {
      "cell_type": "code",
      "source": [
        "plt.figure(figsize=(7, 6.5))\n",
        "plt.scatter(y_test_pred,y_test)\n",
        "\n",
        "min_val = min(np.min(y_test), np.min(y_test_pred))\n",
        "max_val = max(np.max(y_test), np.max(y_test_pred))\n",
        "plt.plot([min_val, max_val], [min_val, max_val], color='red', linestyle='--', label='Ideal Fit')\n",
        "\n",
        "plt.xlabel('Predicted Values')\n",
        "plt.ylabel('Actual Values')\n",
        "plt.title('LightGBM')\n",
        "plt.show()"
      ],
      "metadata": {
        "colab": {
          "base_uri": "https://localhost:8080/",
          "height": 610
        },
        "id": "FaaLaYxhaojp",
        "outputId": "3e6eab61-3c2d-48e2-89e2-d0eefb13e7d1"
      },
      "execution_count": 19,
      "outputs": [
        {
          "output_type": "display_data",
          "data": {
            "text/plain": [
              "<Figure size 700x650 with 1 Axes>"
            ],
            "image/png": "[encoded data removed]"
          },
          "metadata": {}
        }
      ]
    },
    {
      "cell_type": "code",
      "source": [
        "def predict_weight(model_name, modified_DATE, modified_temperature, modified_humidity, modified_co2, modified_total_light):\n",
        "    if model_name == 'Random Forest':\n",
        "        model = rf_model\n",
        "    elif model_name == 'XGBoost':\n",
        "        model = xgb_model\n",
        "    elif model_name == 'LightGBM':\n",
        "        model = lgb_model\n",
        "    else:\n",
        "        raise ValueError(\"Invalid model name. Choose 'Random Forest', 'XGBoost', or 'LightGBM'.\")\n",
        "\n",
        "    input_features = np.array([[modified_DATE, modified_temperature, modified_humidity, modified_co2, modified_total_light]])\n",
        "\n",
        "    predicted_weight = model.predict(input_features)\n",
        "\n",
        "    return predicted_weight[0]"
      ],
      "metadata": {
        "id": "ADE6J5mETRL-"
      },
      "execution_count": 20,
      "outputs": []
    },
    {
      "cell_type": "code",
      "source": [
        "# 사용자 입력 받기\n",
        "model_name = input(\"Enter model (Random Forest, XGBoost, LightGBM): \")\n",
        "modified_DATE = float(input(\"Enter date: \"))\n",
        "modified_temperature = float(input(\"Enter temperature: \"))\n",
        "modified_humidity = float(input(\"Enter humidity: \"))\n",
        "modified_co2 = float(input(\"Enter CO2: \"))\n",
        "modified_total_light = float(input(\"Enter total light: \"))\n",
        "\n",
        "predicted_weight = predict_weight(model_name, modified_DATE, modified_temperature, modified_humidity, modified_co2, modified_total_light)\n",
        "print(f\"Predicted Weight: {predicted_weight:.2f} g\")"
      ],
      "metadata": {
        "colab": {
          "base_uri": "https://localhost:8080/"
        },
        "id": "350_rUC9TTBb",
        "outputId": "fa63ac8f-0a8e-43cc-d3cb-d0ec19533720"
      },
      "execution_count": 22,
      "outputs": [
        {
          "output_type": "stream",
          "name": "stdout",
          "text": [
            "Enter model (Random Forest, XGBoost, LightGBM): LightGBM\n",
            "Enter date: 24\n",
            "Enter temperature: 28\n",
            "Enter humidity: 80\n",
            "Enter CO2: 600\n",
            "Enter total light: 200000\n",
            "Predicted Weight: 156.42 g\n"
          ]
        }
      ]
    },
    {
      "cell_type": "markdown",
      "source": [
        "## 4. 단순 딥러닝 모델"
      ],
      "metadata": {
        "id": "pr1ii420jz0M"
      }
    },
    {
      "cell_type": "code",
      "source": [
        "X = X.to_numpy()\n",
        "y = y.to_numpy()"
      ],
      "metadata": {
        "id": "NoK3s1AikOW9"
      },
      "execution_count": 23,
      "outputs": []
    },
    {
      "cell_type": "code",
      "source": [
        "scaler_X = MinMaxScaler()\n",
        "X_scaled = scaler_X.fit_transform(X)\n",
        "\n",
        "scaler_y = MinMaxScaler()\n",
        "y_scaled = scaler_y.fit_transform(y.reshape(-1, 1)).flatten()"
      ],
      "metadata": {
        "id": "jy4C4BXNkEvn"
      },
      "execution_count": 24,
      "outputs": []
    },
    {
      "cell_type": "code",
      "source": [
        "X_train_scaled, X_test_scaled, y_train_scaled, y_test_scaled = train_test_split(X_scaled, y_scaled, test_size=0.2, random_state=42)"
      ],
      "metadata": {
        "id": "atPx-x0ckGXN"
      },
      "execution_count": 25,
      "outputs": []
    },
    {
      "cell_type": "code",
      "source": [
        "def create_deep_learning_model(input_shape):\n",
        "    model = Sequential()\n",
        "    model.add(Dense(64, input_dim=input_shape, activation='relu'))\n",
        "    model.add(Dense(32, activation='relu'))\n",
        "    model.add(Dense(16, activation='relu'))\n",
        "    model.add(Dense(1))\n",
        "\n",
        "    model.compile(optimizer=Adam(learning_rate=0.001), loss='mean_squared_error')\n",
        "    return model\n",
        "\n",
        "input_shape = X_train_scaled.shape[1]\n",
        "model = create_deep_learning_model(input_shape)\n",
        "history = model.fit(X_train_scaled, y_train_scaled, epochs=50, batch_size=32, validation_split=0.2, verbose=1)\n",
        "\n",
        "y_pred_scaled = model.predict(X_test_scaled).flatten()\n",
        "y_pred = scaler_y.inverse_transform(y_pred_scaled.reshape(-1, 1)).flatten()\n",
        "y_test = scaler_y.inverse_transform(y_test_scaled.reshape(-1, 1)).flatten()\n",
        "\n",
        "rmse = np.sqrt(mean_squared_error(y_test, y_pred))\n",
        "print(f\"Test RMSE: {rmse:.2f}\")"
      ],
      "metadata": {
        "colab": {
          "base_uri": "https://localhost:8080/"
        },
        "id": "-Dae_80Tjy7e",
        "outputId": "60278922-a185-4e53-8aba-834e0cf8b63e"
      },
      "execution_count": 26,
      "outputs": [
        {
          "output_type": "stream",
          "name": "stdout",
          "text": [
            "Epoch 1/50\n",
            "15/15 [==============================] - 1s 18ms/step - loss: 0.0654 - val_loss: 0.0647\n",
            "Epoch 2/50\n",
            "15/15 [==============================] - 0s 4ms/step - loss: 0.0390 - val_loss: 0.0462\n",
            "Epoch 3/50\n",
            "15/15 [==============================] - 0s 5ms/step - loss: 0.0321 - val_loss: 0.0420\n",
            "Epoch 4/50\n",
            "15/15 [==============================] - 0s 5ms/step - loss: 0.0286 - val_loss: 0.0398\n",
            "Epoch 5/50\n",
            "15/15 [==============================] - 0s 4ms/step - loss: 0.0270 - val_loss: 0.0378\n",
            "Epoch 6/50\n",
            "15/15 [==============================] - 0s 5ms/step - loss: 0.0259 - val_loss: 0.0365\n",
            "Epoch 7/50\n",
            "15/15 [==============================] - 0s 4ms/step - loss: 0.0245 - val_loss: 0.0358\n",
            "Epoch 8/50\n",
            "15/15 [==============================] - 0s 5ms/step - loss: 0.0233 - val_loss: 0.0351\n",
            "Epoch 9/50\n",
            "15/15 [==============================] - 0s 5ms/step - loss: 0.0226 - val_loss: 0.0334\n",
            "Epoch 10/50\n",
            "15/15 [==============================] - 0s 4ms/step - loss: 0.0215 - val_loss: 0.0329\n",
            "Epoch 11/50\n",
            "15/15 [==============================] - 0s 4ms/step - loss: 0.0210 - val_loss: 0.0347\n",
            "Epoch 12/50\n",
            "15/15 [==============================] - 0s 6ms/step - loss: 0.0214 - val_loss: 0.0318\n",
            "Epoch 13/50\n",
            "15/15 [==============================] - 0s 9ms/step - loss: 0.0210 - val_loss: 0.0316\n",
            "Epoch 14/50\n",
            "15/15 [==============================] - 0s 8ms/step - loss: 0.0194 - val_loss: 0.0303\n",
            "Epoch 15/50\n",
            "15/15 [==============================] - 0s 6ms/step - loss: 0.0186 - val_loss: 0.0328\n",
            "Epoch 16/50\n",
            "15/15 [==============================] - 0s 6ms/step - loss: 0.0196 - val_loss: 0.0304\n",
            "Epoch 17/50\n",
            "15/15 [==============================] - 0s 6ms/step - loss: 0.0186 - val_loss: 0.0301\n",
            "Epoch 18/50\n",
            "15/15 [==============================] - 0s 5ms/step - loss: 0.0180 - val_loss: 0.0289\n",
            "Epoch 19/50\n",
            "15/15 [==============================] - 0s 7ms/step - loss: 0.0172 - val_loss: 0.0287\n",
            "Epoch 20/50\n",
            "15/15 [==============================] - 0s 5ms/step - loss: 0.0166 - val_loss: 0.0338\n",
            "Epoch 21/50\n",
            "15/15 [==============================] - 0s 6ms/step - loss: 0.0178 - val_loss: 0.0284\n",
            "Epoch 22/50\n",
            "15/15 [==============================] - 0s 7ms/step - loss: 0.0164 - val_loss: 0.0280\n",
            "Epoch 23/50\n",
            "15/15 [==============================] - 0s 8ms/step - loss: 0.0163 - val_loss: 0.0283\n",
            "Epoch 24/50\n",
            "15/15 [==============================] - 0s 8ms/step - loss: 0.0159 - val_loss: 0.0277\n",
            "Epoch 25/50\n",
            "15/15 [==============================] - 0s 7ms/step - loss: 0.0155 - val_loss: 0.0277\n",
            "Epoch 26/50\n",
            "15/15 [==============================] - 0s 7ms/step - loss: 0.0153 - val_loss: 0.0276\n",
            "Epoch 27/50\n",
            "15/15 [==============================] - 0s 6ms/step - loss: 0.0157 - val_loss: 0.0286\n",
            "Epoch 28/50\n",
            "15/15 [==============================] - 0s 6ms/step - loss: 0.0156 - val_loss: 0.0270\n",
            "Epoch 29/50\n",
            "15/15 [==============================] - 0s 6ms/step - loss: 0.0150 - val_loss: 0.0269\n",
            "Epoch 30/50\n",
            "15/15 [==============================] - 0s 6ms/step - loss: 0.0143 - val_loss: 0.0265\n",
            "Epoch 31/50\n",
            "15/15 [==============================] - 0s 5ms/step - loss: 0.0143 - val_loss: 0.0273\n",
            "Epoch 32/50\n",
            "15/15 [==============================] - 0s 6ms/step - loss: 0.0144 - val_loss: 0.0260\n",
            "Epoch 33/50\n",
            "15/15 [==============================] - 0s 7ms/step - loss: 0.0140 - val_loss: 0.0260\n",
            "Epoch 34/50\n",
            "15/15 [==============================] - 0s 9ms/step - loss: 0.0137 - val_loss: 0.0261\n",
            "Epoch 35/50\n",
            "15/15 [==============================] - 0s 6ms/step - loss: 0.0142 - val_loss: 0.0257\n",
            "Epoch 36/50\n",
            "15/15 [==============================] - 0s 7ms/step - loss: 0.0137 - val_loss: 0.0259\n",
            "Epoch 37/50\n",
            "15/15 [==============================] - 0s 7ms/step - loss: 0.0135 - val_loss: 0.0254\n",
            "Epoch 38/50\n",
            "15/15 [==============================] - 0s 5ms/step - loss: 0.0129 - val_loss: 0.0254\n",
            "Epoch 39/50\n",
            "15/15 [==============================] - 0s 7ms/step - loss: 0.0136 - val_loss: 0.0249\n",
            "Epoch 40/50\n",
            "15/15 [==============================] - 0s 6ms/step - loss: 0.0131 - val_loss: 0.0264\n",
            "Epoch 41/50\n",
            "15/15 [==============================] - 0s 7ms/step - loss: 0.0131 - val_loss: 0.0250\n",
            "Epoch 42/50\n",
            "15/15 [==============================] - 0s 7ms/step - loss: 0.0136 - val_loss: 0.0244\n",
            "Epoch 43/50\n",
            "15/15 [==============================] - 0s 9ms/step - loss: 0.0130 - val_loss: 0.0243\n",
            "Epoch 44/50\n",
            "15/15 [==============================] - 0s 6ms/step - loss: 0.0122 - val_loss: 0.0247\n",
            "Epoch 45/50\n",
            "15/15 [==============================] - 0s 7ms/step - loss: 0.0124 - val_loss: 0.0248\n",
            "Epoch 46/50\n",
            "15/15 [==============================] - 0s 7ms/step - loss: 0.0125 - val_loss: 0.0247\n",
            "Epoch 47/50\n",
            "15/15 [==============================] - 0s 6ms/step - loss: 0.0126 - val_loss: 0.0264\n",
            "Epoch 48/50\n",
            "15/15 [==============================] - 0s 7ms/step - loss: 0.0123 - val_loss: 0.0237\n",
            "Epoch 49/50\n",
            "15/15 [==============================] - 0s 7ms/step - loss: 0.0121 - val_loss: 0.0262\n",
            "Epoch 50/50\n",
            "15/15 [==============================] - 0s 7ms/step - loss: 0.0137 - val_loss: 0.0243\n",
            "5/5 [==============================] - 0s 5ms/step\n",
            "Test RMSE: 24.02\n"
          ]
        }
      ]
    },
    {
      "cell_type": "markdown",
      "source": [
        "# BenchMark"
      ],
      "metadata": {
        "id": "H85alC5kSHqV"
      }
    },
    {
      "cell_type": "code",
      "source": [
        "rmse_list = rmse, rf_test_rmse, xgb_test_rmse, lgb_test_rmse\n",
        "\n",
        "model_names = ['Simple DNN', 'Random Forest', 'XGBoost', 'LightGBM']\n",
        "\n",
        "plt.style.use('seaborn-darkgrid')\n",
        "\n",
        "fig, ax = plt.subplots(figsize=(10, 6))\n",
        "\n",
        "bars = ax.bar(model_names, rmse_list, color=['#4285F4', '#DB4437', '#F4B400', '#0F9D58'], edgecolor='black', linewidth=1)\n",
        "\n",
        "for bar in bars:\n",
        "    yval = bar.get_height()\n",
        "    ax.text(bar.get_x() + bar.get_width()/2.0, yval, round(yval, 2), va='bottom', ha='center', fontsize=14, fontweight='bold')\n",
        "\n",
        "plt.title('RMSE Scores of Different Models', fontsize=16, fontweight='bold')\n",
        "plt.xlabel('Model', fontsize=14)\n",
        "plt.ylabel('RMSE', fontsize=14)\n",
        "\n",
        "ax.tick_params(axis='x', labelsize=16)\n",
        "ax.tick_params(axis='y', labelsize=14)\n",
        "\n",
        "ax.grid(True, linestyle='--', alpha=0.7)\n",
        "\n",
        "for spine in ax.spines.values():\n",
        "    spine.set_edgecolor('black')\n",
        "    spine.set_linewidth(1.2)\n",
        "\n",
        "plt.tight_layout()\n",
        "plt.show()"
      ],
      "metadata": {
        "colab": {
          "base_uri": "https://localhost:8080/",
          "height": 595
        },
        "id": "x6WOc2neNDv6",
        "outputId": "15927144-b653-49c6-c957-ee36f688c077"
      },
      "execution_count": 27,
      "outputs": [
        {
          "output_type": "display_data",
          "data": {
            "text/plain": [
              "<Figure size 1000x600 with 1 Axes>"
            ],
            "image/png": "[encoded data removed]"
          },
          "metadata": {}
        }
      ]
    },
    {
      "cell_type": "markdown",
      "source": [
        "# Model Visualization"
      ],
      "metadata": {
        "id": "hoIJd4I1i3NT"
      }
    },
    {
      "cell_type": "code",
      "source": [
        "rf_model = rf_model\n",
        "\n",
        "from sklearn.tree import plot_tree\n",
        "\n",
        "plt.figure(figsize=(20, 10))\n",
        "plot_tree(rf_model.estimators_[0],\n",
        "          feature_names=train_X.columns,\n",
        "          filled=True,\n",
        "          rounded=True,\n",
        "          fontsize=10)\n",
        "plt.show()"
      ],
      "metadata": {
        "id": "mArB5AfDWu_Z"
      },
      "execution_count": null,
      "outputs": []
    },
    {
      "cell_type": "code",
      "source": [
        "model = xgb_model\n",
        "\n",
        "def plot_tree_structure(model, num_trees, save_as_pdf=False):\n",
        "\n",
        "    # 트리 구조 시각화\n",
        "    plt.figure(figsize=(20, 20))\n",
        "    xgb.plot_tree(model, num_trees=num_trees, rankdir='LR')  # 트리의 방향을 왼쪽에서 오른쪽으로 설정\n",
        "    plt.title(f'Tree {num_trees} Visualization')\n",
        "    plt.show()\n",
        "\n",
        "tree_index = 0\n",
        "plot_tree_structure(model, num_trees=tree_index, save_as_pdf=False)"
      ],
      "metadata": {
        "id": "jDLQcZ6ui0pf"
      },
      "execution_count": null,
      "outputs": []
    },
    {
      "cell_type": "code",
      "source": [
        "# 피처 중요도 시각화\n",
        "plt.figure(figsize=(10, 8))\n",
        "xgb.plot_importance(model, importance_type='weight', title='Feature Importance', xlabel='Feature Weight', ylabel='Features')\n",
        "plt.show()"
      ],
      "metadata": {
        "id": "HJ-y1GJYjAYU"
      },
      "execution_count": null,
      "outputs": []
    }
  ]
}