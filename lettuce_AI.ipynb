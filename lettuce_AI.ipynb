{
  "nbformat": 4,
  "nbformat_minor": 0,
  "metadata": {
    "colab": {
      "provenance": [],
      "mount_file_id": "1Uk_HRjQJ35qEot7JSWHlujE6dvNtRNF9",
      "authorship_tag": "ABX9TyOMgBAXHOvGP4G6gduu1Bup",
      "include_colab_link": true
    },
    "kernelspec": {
      "name": "python3",
      "display_name": "Python 3"
    },
    "language_info": {
      "name": "python"
    },
    "widgets": {
      "application/vnd.jupyter.widget-state+json": {
        "e8200d9fbd264f99ae87587f4b379821": {
          "model_module": "@jupyter-widgets/controls",
          "model_name": "HBoxModel",
          "model_module_version": "1.5.0",
          "state": {
            "_dom_classes": [],
            "_model_module": "@jupyter-widgets/controls",
            "_model_module_version": "1.5.0",
            "_model_name": "HBoxModel",
            "_view_count": null,
            "_view_module": "@jupyter-widgets/controls",
            "_view_module_version": "1.5.0",
            "_view_name": "HBoxView",
            "box_style": "",
            "children": [
              "IPY_MODEL_82a90522aae74d72b5ae55777b3f9234",
              "IPY_MODEL_f9696797a2984c70a0f34ca90bbeb409",
              "IPY_MODEL_e4f5c93aa0574d0893540addfec855bb"
            ],
            "layout": "IPY_MODEL_dd2b06e1fd214901bf472c4a7b71412f"
          }
        },
        "82a90522aae74d72b5ae55777b3f9234": {
          "model_module": "@jupyter-widgets/controls",
          "model_name": "HTMLModel",
          "model_module_version": "1.5.0",
          "state": {
            "_dom_classes": [],
            "_model_module": "@jupyter-widgets/controls",
            "_model_module_version": "1.5.0",
            "_model_name": "HTMLModel",
            "_view_count": null,
            "_view_module": "@jupyter-widgets/controls",
            "_view_module_version": "1.5.0",
            "_view_name": "HTMLView",
            "description": "",
            "description_tooltip": null,
            "layout": "IPY_MODEL_db7b62e5a22744da9a708e8dc86bba69",
            "placeholder": "​",
            "style": "IPY_MODEL_e1d12aea48be4d749bb976a26a0079c0",
            "value": ""
          }
        },
        "f9696797a2984c70a0f34ca90bbeb409": {
          "model_module": "@jupyter-widgets/controls",
          "model_name": "FloatProgressModel",
          "model_module_version": "1.5.0",
          "state": {
            "_dom_classes": [],
            "_model_module": "@jupyter-widgets/controls",
            "_model_module_version": "1.5.0",
            "_model_name": "FloatProgressModel",
            "_view_count": null,
            "_view_module": "@jupyter-widgets/controls",
            "_view_module_version": "1.5.0",
            "_view_name": "ProgressView",
            "bar_style": "success",
            "description": "",
            "description_tooltip": null,
            "layout": "IPY_MODEL_70f228b0d5fa4f54acd7644868d10d3f",
            "max": 1,
            "min": 0,
            "orientation": "horizontal",
            "style": "IPY_MODEL_40b3277f585c4022a9517449438a5918",
            "value": 1
          }
        },
        "e4f5c93aa0574d0893540addfec855bb": {
          "model_module": "@jupyter-widgets/controls",
          "model_name": "HTMLModel",
          "model_module_version": "1.5.0",
          "state": {
            "_dom_classes": [],
            "_model_module": "@jupyter-widgets/controls",
            "_model_module_version": "1.5.0",
            "_model_name": "HTMLModel",
            "_view_count": null,
            "_view_module": "@jupyter-widgets/controls",
            "_view_module_version": "1.5.0",
            "_view_name": "HTMLView",
            "description": "",
            "description_tooltip": null,
            "layout": "IPY_MODEL_a64f185f2da841c48fea1e9225a096df",
            "placeholder": "​",
            "style": "IPY_MODEL_45285d665e9544a7ab829ecc069e3632",
            "value": " 25/? [00:09&lt;00:00,  2.36it/s]"
          }
        },
        "dd2b06e1fd214901bf472c4a7b71412f": {
          "model_module": "@jupyter-widgets/base",
          "model_name": "LayoutModel",
          "model_module_version": "1.2.0",
          "state": {
            "_model_module": "@jupyter-widgets/base",
            "_model_module_version": "1.2.0",
            "_model_name": "LayoutModel",
            "_view_count": null,
            "_view_module": "@jupyter-widgets/base",
            "_view_module_version": "1.2.0",
            "_view_name": "LayoutView",
            "align_content": null,
            "align_items": null,
            "align_self": null,
            "border": null,
            "bottom": null,
            "display": null,
            "flex": null,
            "flex_flow": null,
            "grid_area": null,
            "grid_auto_columns": null,
            "grid_auto_flow": null,
            "grid_auto_rows": null,
            "grid_column": null,
            "grid_gap": null,
            "grid_row": null,
            "grid_template_areas": null,
            "grid_template_columns": null,
            "grid_template_rows": null,
            "height": null,
            "justify_content": null,
            "justify_items": null,
            "left": null,
            "margin": null,
            "max_height": null,
            "max_width": null,
            "min_height": null,
            "min_width": null,
            "object_fit": null,
            "object_position": null,
            "order": null,
            "overflow": null,
            "overflow_x": null,
            "overflow_y": null,
            "padding": null,
            "right": null,
            "top": null,
            "visibility": null,
            "width": null
          }
        },
        "db7b62e5a22744da9a708e8dc86bba69": {
          "model_module": "@jupyter-widgets/base",
          "model_name": "LayoutModel",
          "model_module_version": "1.2.0",
          "state": {
            "_model_module": "@jupyter-widgets/base",
            "_model_module_version": "1.2.0",
            "_model_name": "LayoutModel",
            "_view_count": null,
            "_view_module": "@jupyter-widgets/base",
            "_view_module_version": "1.2.0",
            "_view_name": "LayoutView",
            "align_content": null,
            "align_items": null,
            "align_self": null,
            "border": null,
            "bottom": null,
            "display": null,
            "flex": null,
            "flex_flow": null,
            "grid_area": null,
            "grid_auto_columns": null,
            "grid_auto_flow": null,
            "grid_auto_rows": null,
            "grid_column": null,
            "grid_gap": null,
            "grid_row": null,
            "grid_template_areas": null,
            "grid_template_columns": null,
            "grid_template_rows": null,
            "height": null,
            "justify_content": null,
            "justify_items": null,
            "left": null,
            "margin": null,
            "max_height": null,
            "max_width": null,
            "min_height": null,
            "min_width": null,
            "object_fit": null,
            "object_position": null,
            "order": null,
            "overflow": null,
            "overflow_x": null,
            "overflow_y": null,
            "padding": null,
            "right": null,
            "top": null,
            "visibility": null,
            "width": null
          }
        },
        "e1d12aea48be4d749bb976a26a0079c0": {
          "model_module": "@jupyter-widgets/controls",
          "model_name": "DescriptionStyleModel",
          "model_module_version": "1.5.0",
          "state": {
            "_model_module": "@jupyter-widgets/controls",
            "_model_module_version": "1.5.0",
            "_model_name": "DescriptionStyleModel",
            "_view_count": null,
            "_view_module": "@jupyter-widgets/base",
            "_view_module_version": "1.2.0",
            "_view_name": "StyleView",
            "description_width": ""
          }
        },
        "70f228b0d5fa4f54acd7644868d10d3f": {
          "model_module": "@jupyter-widgets/base",
          "model_name": "LayoutModel",
          "model_module_version": "1.2.0",
          "state": {
            "_model_module": "@jupyter-widgets/base",
            "_model_module_version": "1.2.0",
            "_model_name": "LayoutModel",
            "_view_count": null,
            "_view_module": "@jupyter-widgets/base",
            "_view_module_version": "1.2.0",
            "_view_name": "LayoutView",
            "align_content": null,
            "align_items": null,
            "align_self": null,
            "border": null,
            "bottom": null,
            "display": null,
            "flex": null,
            "flex_flow": null,
            "grid_area": null,
            "grid_auto_columns": null,
            "grid_auto_flow": null,
            "grid_auto_rows": null,
            "grid_column": null,
            "grid_gap": null,
            "grid_row": null,
            "grid_template_areas": null,
            "grid_template_columns": null,
            "grid_template_rows": null,
            "height": null,
            "justify_content": null,
            "justify_items": null,
            "left": null,
            "margin": null,
            "max_height": null,
            "max_width": null,
            "min_height": null,
            "min_width": null,
            "object_fit": null,
            "object_position": null,
            "order": null,
            "overflow": null,
            "overflow_x": null,
            "overflow_y": null,
            "padding": null,
            "right": null,
            "top": null,
            "visibility": null,
            "width": "20px"
          }
        },
        "40b3277f585c4022a9517449438a5918": {
          "model_module": "@jupyter-widgets/controls",
          "model_name": "ProgressStyleModel",
          "model_module_version": "1.5.0",
          "state": {
            "_model_module": "@jupyter-widgets/controls",
            "_model_module_version": "1.5.0",
            "_model_name": "ProgressStyleModel",
            "_view_count": null,
            "_view_module": "@jupyter-widgets/base",
            "_view_module_version": "1.2.0",
            "_view_name": "StyleView",
            "bar_color": null,
            "description_width": ""
          }
        },
        "a64f185f2da841c48fea1e9225a096df": {
          "model_module": "@jupyter-widgets/base",
          "model_name": "LayoutModel",
          "model_module_version": "1.2.0",
          "state": {
            "_model_module": "@jupyter-widgets/base",
            "_model_module_version": "1.2.0",
            "_model_name": "LayoutModel",
            "_view_count": null,
            "_view_module": "@jupyter-widgets/base",
            "_view_module_version": "1.2.0",
            "_view_name": "LayoutView",
            "align_content": null,
            "align_items": null,
            "align_self": null,
            "border": null,
            "bottom": null,
            "display": null,
            "flex": null,
            "flex_flow": null,
            "grid_area": null,
            "grid_auto_columns": null,
            "grid_auto_flow": null,
            "grid_auto_rows": null,
            "grid_column": null,
            "grid_gap": null,
            "grid_row": null,
            "grid_template_areas": null,
            "grid_template_columns": null,
            "grid_template_rows": null,
            "height": null,
            "justify_content": null,
            "justify_items": null,
            "left": null,
            "margin": null,
            "max_height": null,
            "max_width": null,
            "min_height": null,
            "min_width": null,
            "object_fit": null,
            "object_position": null,
            "order": null,
            "overflow": null,
            "overflow_x": null,
            "overflow_y": null,
            "padding": null,
            "right": null,
            "top": null,
            "visibility": null,
            "width": null
          }
        },
        "45285d665e9544a7ab829ecc069e3632": {
          "model_module": "@jupyter-widgets/controls",
          "model_name": "DescriptionStyleModel",
          "model_module_version": "1.5.0",
          "state": {
            "_model_module": "@jupyter-widgets/controls",
            "_model_module_version": "1.5.0",
            "_model_name": "DescriptionStyleModel",
            "_view_count": null,
            "_view_module": "@jupyter-widgets/base",
            "_view_module_version": "1.2.0",
            "_view_name": "StyleView",
            "description_width": ""
          }
        },
        "0a29a195371b47fcbcf3504b9301c553": {
          "model_module": "@jupyter-widgets/controls",
          "model_name": "HBoxModel",
          "model_module_version": "1.5.0",
          "state": {
            "_dom_classes": [],
            "_model_module": "@jupyter-widgets/controls",
            "_model_module_version": "1.5.0",
            "_model_name": "HBoxModel",
            "_view_count": null,
            "_view_module": "@jupyter-widgets/controls",
            "_view_module_version": "1.5.0",
            "_view_name": "HBoxView",
            "box_style": "",
            "children": [
              "IPY_MODEL_747b208faba44c408214bfb02b4dda74",
              "IPY_MODEL_c64dadd8ede844bcaabe34a3ec9968fc",
              "IPY_MODEL_54c76442f2a44f8e8f7b761dc6efc248"
            ],
            "layout": "IPY_MODEL_5416fcdfb06d4411b65c6bfcc7113517"
          }
        },
        "747b208faba44c408214bfb02b4dda74": {
          "model_module": "@jupyter-widgets/controls",
          "model_name": "HTMLModel",
          "model_module_version": "1.5.0",
          "state": {
            "_dom_classes": [],
            "_model_module": "@jupyter-widgets/controls",
            "_model_module_version": "1.5.0",
            "_model_name": "HTMLModel",
            "_view_count": null,
            "_view_module": "@jupyter-widgets/controls",
            "_view_module_version": "1.5.0",
            "_view_name": "HTMLView",
            "description": "",
            "description_tooltip": null,
            "layout": "IPY_MODEL_41f67c6a23f64a7b8ca555280b859bf0",
            "placeholder": "​",
            "style": "IPY_MODEL_e64b1fd888ba466286765daa22f3ca6b",
            "value": ""
          }
        },
        "c64dadd8ede844bcaabe34a3ec9968fc": {
          "model_module": "@jupyter-widgets/controls",
          "model_name": "FloatProgressModel",
          "model_module_version": "1.5.0",
          "state": {
            "_dom_classes": [],
            "_model_module": "@jupyter-widgets/controls",
            "_model_module_version": "1.5.0",
            "_model_name": "FloatProgressModel",
            "_view_count": null,
            "_view_module": "@jupyter-widgets/controls",
            "_view_module_version": "1.5.0",
            "_view_name": "ProgressView",
            "bar_style": "success",
            "description": "",
            "description_tooltip": null,
            "layout": "IPY_MODEL_6435f4cab1b747ffade8966e72f87455",
            "max": 1,
            "min": 0,
            "orientation": "horizontal",
            "style": "IPY_MODEL_dfb0a7b1f26b4878ae04e6e04309b542",
            "value": 1
          }
        },
        "54c76442f2a44f8e8f7b761dc6efc248": {
          "model_module": "@jupyter-widgets/controls",
          "model_name": "HTMLModel",
          "model_module_version": "1.5.0",
          "state": {
            "_dom_classes": [],
            "_model_module": "@jupyter-widgets/controls",
            "_model_module_version": "1.5.0",
            "_model_name": "HTMLModel",
            "_view_count": null,
            "_view_module": "@jupyter-widgets/controls",
            "_view_module_version": "1.5.0",
            "_view_name": "HTMLView",
            "description": "",
            "description_tooltip": null,
            "layout": "IPY_MODEL_36ff998d4d364d4d8371b481e7f199df",
            "placeholder": "​",
            "style": "IPY_MODEL_eaf140e870e04969aa72875ab3a3b0df",
            "value": " 3/? [00:01&lt;00:00,  2.46it/s]"
          }
        },
        "5416fcdfb06d4411b65c6bfcc7113517": {
          "model_module": "@jupyter-widgets/base",
          "model_name": "LayoutModel",
          "model_module_version": "1.2.0",
          "state": {
            "_model_module": "@jupyter-widgets/base",
            "_model_module_version": "1.2.0",
            "_model_name": "LayoutModel",
            "_view_count": null,
            "_view_module": "@jupyter-widgets/base",
            "_view_module_version": "1.2.0",
            "_view_name": "LayoutView",
            "align_content": null,
            "align_items": null,
            "align_self": null,
            "border": null,
            "bottom": null,
            "display": null,
            "flex": null,
            "flex_flow": null,
            "grid_area": null,
            "grid_auto_columns": null,
            "grid_auto_flow": null,
            "grid_auto_rows": null,
            "grid_column": null,
            "grid_gap": null,
            "grid_row": null,
            "grid_template_areas": null,
            "grid_template_columns": null,
            "grid_template_rows": null,
            "height": null,
            "justify_content": null,
            "justify_items": null,
            "left": null,
            "margin": null,
            "max_height": null,
            "max_width": null,
            "min_height": null,
            "min_width": null,
            "object_fit": null,
            "object_position": null,
            "order": null,
            "overflow": null,
            "overflow_x": null,
            "overflow_y": null,
            "padding": null,
            "right": null,
            "top": null,
            "visibility": null,
            "width": null
          }
        },
        "41f67c6a23f64a7b8ca555280b859bf0": {
          "model_module": "@jupyter-widgets/base",
          "model_name": "LayoutModel",
          "model_module_version": "1.2.0",
          "state": {
            "_model_module": "@jupyter-widgets/base",
            "_model_module_version": "1.2.0",
            "_model_name": "LayoutModel",
            "_view_count": null,
            "_view_module": "@jupyter-widgets/base",
            "_view_module_version": "1.2.0",
            "_view_name": "LayoutView",
            "align_content": null,
            "align_items": null,
            "align_self": null,
            "border": null,
            "bottom": null,
            "display": null,
            "flex": null,
            "flex_flow": null,
            "grid_area": null,
            "grid_auto_columns": null,
            "grid_auto_flow": null,
            "grid_auto_rows": null,
            "grid_column": null,
            "grid_gap": null,
            "grid_row": null,
            "grid_template_areas": null,
            "grid_template_columns": null,
            "grid_template_rows": null,
            "height": null,
            "justify_content": null,
            "justify_items": null,
            "left": null,
            "margin": null,
            "max_height": null,
            "max_width": null,
            "min_height": null,
            "min_width": null,
            "object_fit": null,
            "object_position": null,
            "order": null,
            "overflow": null,
            "overflow_x": null,
            "overflow_y": null,
            "padding": null,
            "right": null,
            "top": null,
            "visibility": null,
            "width": null
          }
        },
        "e64b1fd888ba466286765daa22f3ca6b": {
          "model_module": "@jupyter-widgets/controls",
          "model_name": "DescriptionStyleModel",
          "model_module_version": "1.5.0",
          "state": {
            "_model_module": "@jupyter-widgets/controls",
            "_model_module_version": "1.5.0",
            "_model_name": "DescriptionStyleModel",
            "_view_count": null,
            "_view_module": "@jupyter-widgets/base",
            "_view_module_version": "1.2.0",
            "_view_name": "StyleView",
            "description_width": ""
          }
        },
        "6435f4cab1b747ffade8966e72f87455": {
          "model_module": "@jupyter-widgets/base",
          "model_name": "LayoutModel",
          "model_module_version": "1.2.0",
          "state": {
            "_model_module": "@jupyter-widgets/base",
            "_model_module_version": "1.2.0",
            "_model_name": "LayoutModel",
            "_view_count": null,
            "_view_module": "@jupyter-widgets/base",
            "_view_module_version": "1.2.0",
            "_view_name": "LayoutView",
            "align_content": null,
            "align_items": null,
            "align_self": null,
            "border": null,
            "bottom": null,
            "display": null,
            "flex": null,
            "flex_flow": null,
            "grid_area": null,
            "grid_auto_columns": null,
            "grid_auto_flow": null,
            "grid_auto_rows": null,
            "grid_column": null,
            "grid_gap": null,
            "grid_row": null,
            "grid_template_areas": null,
            "grid_template_columns": null,
            "grid_template_rows": null,
            "height": null,
            "justify_content": null,
            "justify_items": null,
            "left": null,
            "margin": null,
            "max_height": null,
            "max_width": null,
            "min_height": null,
            "min_width": null,
            "object_fit": null,
            "object_position": null,
            "order": null,
            "overflow": null,
            "overflow_x": null,
            "overflow_y": null,
            "padding": null,
            "right": null,
            "top": null,
            "visibility": null,
            "width": "20px"
          }
        },
        "dfb0a7b1f26b4878ae04e6e04309b542": {
          "model_module": "@jupyter-widgets/controls",
          "model_name": "ProgressStyleModel",
          "model_module_version": "1.5.0",
          "state": {
            "_model_module": "@jupyter-widgets/controls",
            "_model_module_version": "1.5.0",
            "_model_name": "ProgressStyleModel",
            "_view_count": null,
            "_view_module": "@jupyter-widgets/base",
            "_view_module_version": "1.2.0",
            "_view_name": "StyleView",
            "bar_color": null,
            "description_width": ""
          }
        },
        "36ff998d4d364d4d8371b481e7f199df": {
          "model_module": "@jupyter-widgets/base",
          "model_name": "LayoutModel",
          "model_module_version": "1.2.0",
          "state": {
            "_model_module": "@jupyter-widgets/base",
            "_model_module_version": "1.2.0",
            "_model_name": "LayoutModel",
            "_view_count": null,
            "_view_module": "@jupyter-widgets/base",
            "_view_module_version": "1.2.0",
            "_view_name": "LayoutView",
            "align_content": null,
            "align_items": null,
            "align_self": null,
            "border": null,
            "bottom": null,
            "display": null,
            "flex": null,
            "flex_flow": null,
            "grid_area": null,
            "grid_auto_columns": null,
            "grid_auto_flow": null,
            "grid_auto_rows": null,
            "grid_column": null,
            "grid_gap": null,
            "grid_row": null,
            "grid_template_areas": null,
            "grid_template_columns": null,
            "grid_template_rows": null,
            "height": null,
            "justify_content": null,
            "justify_items": null,
            "left": null,
            "margin": null,
            "max_height": null,
            "max_width": null,
            "min_height": null,
            "min_width": null,
            "object_fit": null,
            "object_position": null,
            "order": null,
            "overflow": null,
            "overflow_x": null,
            "overflow_y": null,
            "padding": null,
            "right": null,
            "top": null,
            "visibility": null,
            "width": null
          }
        },
        "eaf140e870e04969aa72875ab3a3b0df": {
          "model_module": "@jupyter-widgets/controls",
          "model_name": "DescriptionStyleModel",
          "model_module_version": "1.5.0",
          "state": {
            "_model_module": "@jupyter-widgets/controls",
            "_model_module_version": "1.5.0",
            "_model_name": "DescriptionStyleModel",
            "_view_count": null,
            "_view_module": "@jupyter-widgets/base",
            "_view_module_version": "1.2.0",
            "_view_name": "StyleView",
            "description_width": ""
          }
        }
      }
    }
  },
  "cells": [
    {
      "cell_type": "markdown",
      "metadata": {
        "id": "view-in-github",
        "colab_type": "text"
      },
      "source": [
        "<a href=\"https://colab.research.google.com/github/jangjung-coding/lettuce_predict_ai/blob/main/lettuce_AI.ipynb\" target=\"_parent\"><img src=\"https://colab.research.google.com/assets/colab-badge.svg\" alt=\"Open In Colab\"/></a>"
      ]
    },
    {
      "cell_type": "markdown",
      "source": [
        "# 초기 설정"
      ],
      "metadata": {
        "id": "eS_h_JxISDOP"
      }
    },
    {
      "cell_type": "code",
      "source": [
        "from google.colab import drive\n",
        "drive.mount('/content/drive')"
      ],
      "metadata": {
        "id": "L0uewiMC1ntR"
      },
      "execution_count": null,
      "outputs": []
    },
    {
      "cell_type": "code",
      "source": [
        "!sudo apt-get install -y fonts-nanum\n",
        "!sudo fc-cache -fv\n",
        "!rm ~/.cache/matplotlib -rf"
      ],
      "metadata": {
        "colab": {
          "base_uri": "https://localhost:8080/"
        },
        "id": "Vimp2dpz1jnC",
        "outputId": "360e079b-2e9b-4c4d-8e38-aafbae1fc01d"
      },
      "execution_count": 71,
      "outputs": [
        {
          "output_type": "stream",
          "name": "stdout",
          "text": [
            "fc-cache: succeeded\n"
          ]
        }
      ]
    },
    {
      "cell_type": "code",
      "source": [
        "import random\n",
        "import pandas as pd\n",
        "import numpy as np\n",
        "import os\n",
        "import glob\n",
        "\n",
        "import torch\n",
        "import torch.nn as nn\n",
        "import torch.optim as optim\n",
        "import torch.nn.functional as F\n",
        "from torch.utils.data import Dataset, DataLoader\n",
        "\n",
        "from tqdm.auto import tqdm\n",
        "\n",
        "import warnings\n",
        "warnings.filterwarnings(action='ignore')"
      ],
      "metadata": {
        "id": "uKoPUQsC0ap1"
      },
      "execution_count": 81,
      "outputs": []
    },
    {
      "cell_type": "code",
      "source": [
        "device = torch.device('cuda') if torch.cuda.is_available() else torch.device('cpu')"
      ],
      "metadata": {
        "id": "fch0mSu_Whcp"
      },
      "execution_count": 82,
      "outputs": []
    },
    {
      "cell_type": "code",
      "source": [
        "CFG = {\n",
        "    'EPOCHS':30,\n",
        "    'LEARNING_RATE':1e-3,\n",
        "    'BATCH_SIZE':16,\n",
        "    'SEED':41\n",
        "}"
      ],
      "metadata": {
        "id": "jkngVcUXWxoV"
      },
      "execution_count": 90,
      "outputs": []
    },
    {
      "cell_type": "code",
      "source": [
        "def seed_everything(seed):\n",
        "    random.seed(seed)\n",
        "    os.environ['PYTHONHASHSEED'] = str(seed)\n",
        "    np.random.seed(seed)\n",
        "    torch.manual_seed(seed)\n",
        "    torch.cuda.manual_seed(seed)\n",
        "    torch.backends.cudnn.deterministic = True\n",
        "    torch.backends.cudnn.benchmark = True\n",
        "\n",
        "seed_everything(CFG['SEED']) # Seed 고정"
      ],
      "metadata": {
        "id": "csA4YkduW0X2"
      },
      "execution_count": 91,
      "outputs": []
    },
    {
      "cell_type": "code",
      "source": [
        "%cd /content/drive/MyDrive/googleCloud AI 인재양성 교육/[프로젝트]상추의 생육 환경 예측 AI/data"
      ],
      "metadata": {
        "colab": {
          "base_uri": "https://localhost:8080/"
        },
        "id": "Lnb0mGeS2Jf7",
        "outputId": "e03f5963-1823-4053-d9b5-45be65265c3a"
      },
      "execution_count": 97,
      "outputs": [
        {
          "output_type": "stream",
          "name": "stdout",
          "text": [
            "/content/drive/MyDrive/googleCloud AI 인재양성 교육/[프로젝트]상추의 생육 환경 예측 AI/data\n"
          ]
        }
      ]
    },
    {
      "cell_type": "code",
      "source": [
        "all_input_list = sorted(glob.glob('./train_input/*.csv'))\n",
        "all_target_list = sorted(glob.glob('./train_target/*.csv'))"
      ],
      "metadata": {
        "id": "tUen_R3uW6Ed"
      },
      "execution_count": 99,
      "outputs": []
    },
    {
      "cell_type": "code",
      "source": [
        "train_input_list = all_input_list[:25]\n",
        "train_target_list = all_target_list[:25]\n",
        "\n",
        "val_input_list = all_input_list[25:]\n",
        "val_target_list = all_target_list[25:]"
      ],
      "metadata": {
        "id": "ZNuCnztA1DW4"
      },
      "execution_count": 101,
      "outputs": []
    },
    {
      "cell_type": "code",
      "source": [
        "class CustomDataset(Dataset):\n",
        "    def __init__(self, input_paths, target_paths, infer_mode):\n",
        "        self.input_paths = input_paths\n",
        "        self.target_paths = target_paths\n",
        "        self.infer_mode = infer_mode\n",
        "\n",
        "        self.data_list = []\n",
        "        self.label_list = []\n",
        "        print('Data Pre-processing..')\n",
        "        for input_path, target_path in tqdm(zip(self.input_paths, self.target_paths)):\n",
        "            input_df = pd.read_csv(input_path)\n",
        "            target_df = pd.read_csv(target_path)\n",
        "\n",
        "            input_df = input_df.drop(columns=['obs_time'])\n",
        "            input_df = input_df.fillna(0)\n",
        "\n",
        "            input_length = int(len(input_df)/24)\n",
        "            target_length = int(len(target_df))\n",
        "\n",
        "            for idx in range(target_length):\n",
        "                time_series = input_df[24*idx:24*(idx+1)].values\n",
        "                self.data_list.append(torch.Tensor(time_series))\n",
        "            for label in target_df[\"predicted_weight_g\"]:\n",
        "                self.label_list.append(label)\n",
        "        print('Done.')\n",
        "\n",
        "    def __getitem__(self, index):\n",
        "        data = self.data_list[index]\n",
        "        label = self.label_list[index]\n",
        "        if self.infer_mode == False:\n",
        "            return data, label\n",
        "        else:\n",
        "            return data\n",
        "\n",
        "    def __len__(self):\n",
        "        return len(self.data_list)"
      ],
      "metadata": {
        "id": "8bJ6ZFb-1GjN"
      },
      "execution_count": 102,
      "outputs": []
    },
    {
      "cell_type": "code",
      "source": [
        "train_dataset = CustomDataset(train_input_list, train_target_list, False)\n",
        "train_loader = DataLoader(train_dataset, batch_size = CFG['BATCH_SIZE'], shuffle=True, num_workers=6)\n",
        "\n",
        "val_dataset = CustomDataset(val_input_list, val_target_list, False)\n",
        "val_loader = DataLoader(val_dataset, batch_size=CFG['BATCH_SIZE'], shuffle=False, num_workers=6)"
      ],
      "metadata": {
        "colab": {
          "base_uri": "https://localhost:8080/",
          "height": 152,
          "referenced_widgets": [
            "e8200d9fbd264f99ae87587f4b379821",
            "82a90522aae74d72b5ae55777b3f9234",
            "f9696797a2984c70a0f34ca90bbeb409",
            "e4f5c93aa0574d0893540addfec855bb",
            "dd2b06e1fd214901bf472c4a7b71412f",
            "db7b62e5a22744da9a708e8dc86bba69",
            "e1d12aea48be4d749bb976a26a0079c0",
            "70f228b0d5fa4f54acd7644868d10d3f",
            "40b3277f585c4022a9517449438a5918",
            "a64f185f2da841c48fea1e9225a096df",
            "45285d665e9544a7ab829ecc069e3632",
            "0a29a195371b47fcbcf3504b9301c553",
            "747b208faba44c408214bfb02b4dda74",
            "c64dadd8ede844bcaabe34a3ec9968fc",
            "54c76442f2a44f8e8f7b761dc6efc248",
            "5416fcdfb06d4411b65c6bfcc7113517",
            "41f67c6a23f64a7b8ca555280b859bf0",
            "e64b1fd888ba466286765daa22f3ca6b",
            "6435f4cab1b747ffade8966e72f87455",
            "dfb0a7b1f26b4878ae04e6e04309b542",
            "36ff998d4d364d4d8371b481e7f199df",
            "eaf140e870e04969aa72875ab3a3b0df"
          ]
        },
        "id": "E61MXeWd5xgV",
        "outputId": "e6676669-f13a-48d6-c40b-fc66671bdb40"
      },
      "execution_count": 103,
      "outputs": [
        {
          "output_type": "stream",
          "name": "stdout",
          "text": [
            "Data Pre-processing..\n"
          ]
        },
        {
          "output_type": "display_data",
          "data": {
            "text/plain": [
              "0it [00:00, ?it/s]"
            ],
            "application/vnd.jupyter.widget-view+json": {
              "version_major": 2,
              "version_minor": 0,
              "model_id": "e8200d9fbd264f99ae87587f4b379821"
            }
          },
          "metadata": {}
        },
        {
          "output_type": "stream",
          "name": "stdout",
          "text": [
            "Done.\n",
            "Data Pre-processing..\n"
          ]
        },
        {
          "output_type": "display_data",
          "data": {
            "text/plain": [
              "0it [00:00, ?it/s]"
            ],
            "application/vnd.jupyter.widget-view+json": {
              "version_major": 2,
              "version_minor": 0,
              "model_id": "0a29a195371b47fcbcf3504b9301c553"
            }
          },
          "metadata": {}
        },
        {
          "output_type": "stream",
          "name": "stdout",
          "text": [
            "Done.\n"
          ]
        }
      ]
    },
    {
      "cell_type": "code",
      "source": [
        "class BaseModel(nn.Module):\n",
        "    def __init__(self):\n",
        "        super(BaseModel, self).__init__()\n",
        "        self.lstm = nn.LSTM(input_size=15, hidden_size=256, batch_first=True, bidirectional=False)\n",
        "        self.classifier = nn.Sequential(\n",
        "            nn.Linear(256, 1),\n",
        "        )\n",
        "\n",
        "    def forward(self, x):\n",
        "        hidden, _ = self.lstm(x)\n",
        "        output = self.classifier(hidden[:,-1,:])\n",
        "        return output"
      ],
      "metadata": {
        "id": "GSoumD6FED_X"
      },
      "execution_count": 104,
      "outputs": []
    },
    {
      "cell_type": "code",
      "source": [
        "def train(model, optimizer, train_loader, val_loader, scheduler, device):\n",
        "    model.to(device)\n",
        "    criterion = nn.L1Loss().to(device)\n",
        "\n",
        "    best_loss = 9999\n",
        "    best_model = None\n",
        "    for epoch in range(1, CFG['EPOCHS']+1):\n",
        "        model.train()\n",
        "        train_loss = []\n",
        "        for X, Y in iter(train_loader):\n",
        "            X = X.to(device)\n",
        "            Y = Y.to(device)\n",
        "\n",
        "            optimizer.zero_grad()\n",
        "\n",
        "            output = model(X)\n",
        "            loss = criterion(output, Y)\n",
        "\n",
        "            loss.backward()\n",
        "            optimizer.step()\n",
        "\n",
        "            train_loss.append(loss.item())\n",
        "\n",
        "        val_loss = validation(model, val_loader, criterion, device)\n",
        "\n",
        "        print(f'Train Loss : [{np.mean(train_loss):.5f}] Valid Loss : [{val_loss:.5f}]')\n",
        "\n",
        "        if scheduler is not None:\n",
        "            scheduler.step(val_loss)\n",
        "\n",
        "        if best_loss > val_loss:\n",
        "            best_loss = val_loss\n",
        "            best_model = model\n",
        "    return best_model"
      ],
      "metadata": {
        "id": "htH_0nHjX1eb"
      },
      "execution_count": 105,
      "outputs": []
    },
    {
      "cell_type": "code",
      "source": [
        "def validation(model, val_loader, criterion, device):\n",
        "    model.eval()\n",
        "    val_loss = []\n",
        "    with torch.no_grad():\n",
        "        for X, Y in iter(val_loader):\n",
        "            X = X.float().to(device)\n",
        "            Y = Y.float().to(device)\n",
        "\n",
        "            model_pred = model(X)\n",
        "            loss = criterion(model_pred, Y)\n",
        "\n",
        "            val_loss.append(loss.item())\n",
        "\n",
        "    return np.mean(val_loss)"
      ],
      "metadata": {
        "id": "A4oWv3JYX4bT"
      },
      "execution_count": 106,
      "outputs": []
    },
    {
      "cell_type": "code",
      "source": [
        "model = BaseModel()\n",
        "model.eval()\n",
        "optimizer = torch.optim.Adam(params = model.parameters(), lr = CFG[\"LEARNING_RATE\"])\n",
        "scheduler = torch.optim.lr_scheduler.ReduceLROnPlateau(optimizer, mode='min', factor=0.5, patience=2, threshold_mode='abs',min_lr=1e-8, verbose=True)\n",
        "\n",
        "best_model = train(model, optimizer, train_loader, val_loader, scheduler, device)"
      ],
      "metadata": {
        "colab": {
          "base_uri": "https://localhost:8080/"
        },
        "id": "ckgfzh97X6XP",
        "outputId": "31e2bbfc-4d38-4b38-dc03-ada5936721e2"
      },
      "execution_count": 107,
      "outputs": [
        {
          "output_type": "stream",
          "name": "stdout",
          "text": [
            "Train Loss : [34.78162] Valid Loss : [27.60703]\n",
            "Train Loss : [32.56001] Valid Loss : [26.14123]\n",
            "Train Loss : [31.45942] Valid Loss : [25.45856]\n",
            "Train Loss : [31.01905] Valid Loss : [25.13085]\n",
            "Train Loss : [30.51982] Valid Loss : [24.90011]\n",
            "Train Loss : [30.47947] Valid Loss : [24.86339]\n",
            "Train Loss : [30.31722] Valid Loss : [24.82071]\n",
            "Train Loss : [30.33345] Valid Loss : [24.81744]\n",
            "Train Loss : [30.34926] Valid Loss : [24.80219]\n",
            "Train Loss : [30.36699] Valid Loss : [24.79919]\n",
            "Train Loss : [30.17920] Valid Loss : [24.80735]\n",
            "Train Loss : [30.21411] Valid Loss : [24.78642]\n",
            "Train Loss : [30.25776] Valid Loss : [24.79602]\n",
            "Train Loss : [30.29879] Valid Loss : [24.78557]\n",
            "Train Loss : [30.28586] Valid Loss : [24.78725]\n",
            "Train Loss : [30.24407] Valid Loss : [24.79298]\n",
            "Train Loss : [30.31077] Valid Loss : [24.80108]\n",
            "Train Loss : [30.23780] Valid Loss : [24.80370]\n",
            "Train Loss : [30.25825] Valid Loss : [24.82526]\n",
            "Train Loss : [30.25785] Valid Loss : [24.79629]\n",
            "Train Loss : [30.24134] Valid Loss : [24.79858]\n",
            "Train Loss : [30.27831] Valid Loss : [24.79930]\n",
            "Train Loss : [30.25942] Valid Loss : [24.79898]\n",
            "Train Loss : [30.26292] Valid Loss : [24.79944]\n",
            "Train Loss : [30.29195] Valid Loss : [24.79854]\n",
            "Train Loss : [30.25040] Valid Loss : [24.79908]\n",
            "Train Loss : [30.22836] Valid Loss : [24.79916]\n",
            "Train Loss : [30.11152] Valid Loss : [24.79984]\n",
            "Train Loss : [30.19787] Valid Loss : [24.79948]\n",
            "Train Loss : [30.20961] Valid Loss : [24.79927]\n"
          ]
        }
      ]
    },
    {
      "cell_type": "code",
      "source": [
        "test_input_list = sorted(glob.glob('./test_input/*.csv'))\n",
        "test_target_list = sorted(glob.glob('./test_target/*.csv'))"
      ],
      "metadata": {
        "id": "teD2yekAX9Ax"
      },
      "execution_count": null,
      "outputs": []
    },
    {
      "cell_type": "code",
      "source": [
        "def inference_per_case(model, test_loader, test_path, device):\n",
        "    model.to(device)\n",
        "    model.eval()\n",
        "    pred_list = []\n",
        "    with torch.no_grad():\n",
        "        for X in iter(test_loader):\n",
        "            X = X.float().to(device)\n",
        "\n",
        "            model_pred = model(X)\n",
        "\n",
        "            model_pred = model_pred.cpu().numpy().reshape(-1).tolist()\n",
        "\n",
        "            pred_list += model_pred\n",
        "\n",
        "    submit_df = pd.read_csv(test_path)\n",
        "    submit_df['predicted_weight_g'] = pred_list\n",
        "    submit_df.to_csv(test_path, index=False)"
      ],
      "metadata": {
        "id": "QL8RsI3DX9v7"
      },
      "execution_count": null,
      "outputs": []
    },
    {
      "cell_type": "code",
      "source": [
        "for test_input_path, test_target_path in zip(test_input_list, test_target_list):\n",
        "    test_dataset = CustomDataset([test_input_path], [test_target_path], True)\n",
        "    test_loader = DataLoader(test_dataset, batch_size = CFG['BATCH_SIZE'], shuffle=False, num_workers=0)\n",
        "    inference_per_case(best_model, test_loader, test_target_path, device)"
      ],
      "metadata": {
        "id": "rA4tC85jYBfx"
      },
      "execution_count": null,
      "outputs": []
    },
    {
      "cell_type": "code",
      "source": [
        "import zipfile\n",
        "os.chdir(\"./test_target/\")\n",
        "submission = zipfile.ZipFile(\"../submission.zip\", 'w')\n",
        "for path in test_target_list:\n",
        "    path = path.split('/')[-1]\n",
        "    submission.write(path)\n",
        "submission.close()"
      ],
      "metadata": {
        "id": "2yopYjWnYC7-"
      },
      "execution_count": null,
      "outputs": []
    },
    {
      "cell_type": "markdown",
      "source": [
        "# Modeling\n",
        "- LSTM : 순환 신경망(RNN)의 일종으로, 시간의 흐름에 따라 변하는 시계열 데이터를 잘 다룰 수 있는 모델\n",
        "- XGBoost : 결정 트리 기반의 앙상블 학습 모델\n",
        "- LightGBM : XGBoost와 유사한 앙상블 학습 기법이지만, 더 빠르고 효율적인 학습을 위해 최적화된 모델\n",
        "- SegRNN : 시계열 데이터의 특정 구간을 분할하여 각 구간의 특징을 학습하는 모델\n",
        "- Random Forest Regression : 여러 개의 결정 트리를 사용하여 예측을 수행하는 앙상블 학습 모델\n",
        "\n",
        "참고\n",
        "\n",
        "https://paperswithcode.com/area/time-series (모델 설명)\n",
        "\n",
        "https://towardsdatascience.com/ensemble-models-5a62d4f4cb0c (앙상블 모델 설명)"
      ],
      "metadata": {
        "id": "0sjhYrOStjit"
      }
    },
    {
      "cell_type": "markdown",
      "source": [
        "## 1. LSTM (Long Short-Term Memory)\n",
        "LSTM은 장기 의존성 문제를 해결하는 순환 신경망\n",
        "\n",
        "장점:\n",
        "- 시계열 데이터의 장기 패턴을 잘 학습함\n",
        "- 과거 데이터의 중요한 정보를 오래 유지\n",
        "\n",
        "단점:\n",
        "- 학습 시간이 길어질 수 있음\n",
        "- 많은 하이퍼파라미터로 인해 튜닝이 복잡할 수 있음"
      ],
      "metadata": {
        "id": "kqroOX_nLmUm"
      }
    },
    {
      "cell_type": "code",
      "source": [],
      "metadata": {
        "id": "e_2kH-LwwCR6"
      },
      "execution_count": null,
      "outputs": []
    },
    {
      "cell_type": "markdown",
      "source": [
        "## 2. XGBoost (Extreme Gradient Boosting)\n",
        "XGBoost는 결정 트리 기반의 강력한 앙상블 학습 기법입니다.\n",
        "\n",
        "장점:\n",
        "- 빠른 연산 속도와 높은 예측 성능을 제공\n",
        "- 과적합 방지를 위한 다양한 규제 기법을 포함\n",
        "\n",
        "단점:\n",
        "- 큰 데이터셋에서는 메모리 사용량이 많다\n",
        "- 하이퍼파라미터 튜닝이 복잡할 수 있다"
      ],
      "metadata": {
        "id": "IZR4i24aMbOd"
      }
    },
    {
      "cell_type": "markdown",
      "source": [
        "## 3. LightGBM (Light Gradient Boosting Machine)\n",
        "LightGBM은 대용량 데이터셋에서 빠르고 효율적인 학습을 위한 앙상블 기법입니다.\n",
        "\n",
        "장점:\n",
        "- 학습 속도가 매우 빠름\n",
        "- 메모리 효율성이 높음\n",
        "\n",
        "단점:\n",
        "\n",
        "- 작은 데이터셋에서는 성능이 저하될 수 있음\n",
        "- 데이터 전처리와 형식에 민감할 수 있음"
      ],
      "metadata": {
        "id": "xVdMRstVMkSq"
      }
    },
    {
      "cell_type": "markdown",
      "source": [
        "##4. SegRNN (Segmental Recurrent Neural Network)\n",
        "\n",
        "SegRNN은 시계열 데이터를 특정 구간으로 나누어 학습하는 순환 신경망\n",
        "\n",
        "장점:\n",
        "\n",
        "- 구간별 특징을 잘 반영하여 예측 정확도가 높다\n",
        "- 특정 이벤트나 패턴을 더 잘 캡처할 수 있다\n",
        "\n",
        "단점:\n",
        "\n",
        "- 데이터 구간 설정이 어려울 수 있다\n",
        "- 계산 복잡도가 높아질 수 있다"
      ],
      "metadata": {
        "id": "-vp45pmCMJI5"
      }
    },
    {
      "cell_type": "code",
      "source": [],
      "metadata": {
        "id": "HHETZTAhMMxy"
      },
      "execution_count": null,
      "outputs": []
    },
    {
      "cell_type": "markdown",
      "source": [
        "## 5. Random Forest Regression\n",
        "장점:\n",
        "\n",
        "- 여러 트리의 예측을 평균화하기 때문에 과적합 가능성이 낮다\n",
        "- 구현이 비교적 간단하며, 기본 설정으로도 좋은 성능을 보임\n",
        "\n",
        "단점:\n",
        "- 많은 트리를 생성하므로 메모리 사용량이 많을 수 있음\n",
        "- 많은 트리를 거쳐 예측하기 때문에 실시간 예측에는 부적합할 수 있음"
      ],
      "metadata": {
        "id": "oS74Yj3JRoIG"
      }
    },
    {
      "cell_type": "code",
      "source": [],
      "metadata": {
        "id": "m61X3P7zRvT_"
      },
      "execution_count": null,
      "outputs": []
    },
    {
      "cell_type": "markdown",
      "source": [
        "# BenchMark"
      ],
      "metadata": {
        "id": "H85alC5kSHqV"
      }
    },
    {
      "cell_type": "code",
      "source": [],
      "metadata": {
        "id": "ImWdzm1ySMCY"
      },
      "execution_count": null,
      "outputs": []
    }
  ]
}